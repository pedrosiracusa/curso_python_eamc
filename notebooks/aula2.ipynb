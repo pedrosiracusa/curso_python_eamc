{
 "cells": [
  {
   "cell_type": "markdown",
   "metadata": {},
   "source": [
    "# Aula 2. Estruturas de controle, Funções e Classes"
   ]
  },
  {
   "cell_type": "markdown",
   "metadata": {},
   "source": [
    "##### Conteúdos\n",
    "\n",
    "* [1. Estruturas de Controle](#1.-Estruturas-de-Controle)\n",
    "    * [Estruturas Condicionais](#Estruturas-Condicionais)\n",
    "    * [Estruturas de Repetição](#Estruturas-de-Repetição)\n",
    "* [2. Funções](#2.-Funções)\n",
    "    * [Definindo funções](#Definindo-funções)\n",
    "    * [Funções Anônimas (*lambda*)](#Funções-Anônimas,-ou-Lambda)\n",
    "* [3. Classes](#3.-Classes)"
   ]
  },
  {
   "cell_type": "markdown",
   "metadata": {},
   "source": [
    "# 1. Estruturas de Controle"
   ]
  },
  {
   "cell_type": "markdown",
   "metadata": {},
   "source": [
    "Estruturas de controle alteram a sequência em que instruções são executadas em um programa.\n",
    "Aqui estudaremos as **estruturas condicionais** e **estruturas de repetição**."
   ]
  },
  {
   "cell_type": "markdown",
   "metadata": {},
   "source": [
    "## Estruturas Condicionais"
   ]
  },
  {
   "cell_type": "markdown",
   "metadata": {},
   "source": [
    "Estruturas condicionais permitem alterar o fluxo de execução de um programa através da verificação de **condições**, que podem ser codificadas em nosso programa por meio de **expressões lógicas** (aquelas cuja avaliação resulta em valores do tipo **booleano**: `True` ou `False`).\n",
    "Podemos construir estruturas condicionais com diferentes níveis de complexidade, dependendo do conjunto de condições.\n",
    "Vejamos como construí-las"
   ]
  },
  {
   "cell_type": "markdown",
   "metadata": {},
   "source": [
    "#### A construção *if*"
   ]
  },
  {
   "cell_type": "markdown",
   "metadata": {},
   "source": [
    "A construção `if` é a maneira mais simples de escrevermos um bloco de código $A$ que somente deve ser executado caso uma determinada condição **seja satisfeita** (ou seja, avaliada como `True`). Caso contrário, o código $A$ é simplesmente ignorado"
   ]
  },
  {
   "cell_type": "markdown",
   "metadata": {},
   "source": [
    "<img src=\"img/conditionals_if.png\" width=450/>"
   ]
  },
  {
   "cell_type": "code",
   "execution_count": 1,
   "metadata": {},
   "outputs": [
    {
     "name": "stdout",
     "output_type": "stream",
     "text": [
      "Antes da condicional: sempre executa\n",
      "Código A: só executa caso a condição seja verdadeira\n",
      "Após a condicional: sempre executa\n"
     ]
    }
   ],
   "source": [
    "print(\"Antes da condicional: sempre executa\")\n",
    "\n",
    "cond = True\n",
    "\n",
    "if cond:\n",
    "    print(\"Código A: só executa caso a condição seja verdadeira\")\n",
    "\n",
    "print(\"Após a condicional: sempre executa\")"
   ]
  },
  {
   "cell_type": "markdown",
   "metadata": {},
   "source": [
    "#### A construção *if else*"
   ]
  },
  {
   "cell_type": "markdown",
   "metadata": {},
   "source": [
    "Um `if` pode ser associado a um `else`, contendo um bloco de código que é executado caso a condição do `if` **não seja satisfeita** (ou seja, avaliada como `False`). Assim como no exemplo anterior, o código $A$ é executado caso a condição seja verdadeira. A diferença é que, no caso de a condição ser falsa, um código alternativo $B$ será executado"
   ]
  },
  {
   "cell_type": "markdown",
   "metadata": {},
   "source": [
    "<img src=\"img/conditionals_ifelse.png\" width=450/>"
   ]
  },
  {
   "cell_type": "code",
   "execution_count": 2,
   "metadata": {},
   "outputs": [
    {
     "name": "stdout",
     "output_type": "stream",
     "text": [
      "Antes da condicional: sempre executa\n",
      "Código A: só executa caso a condição seja verdadeira\n",
      "Após a condicional: sempre executa\n"
     ]
    }
   ],
   "source": [
    "print(\"Antes da condicional: sempre executa\")\n",
    "\n",
    "cond = True\n",
    "\n",
    "if cond:\n",
    "    print(\"Código A: só executa caso a condição seja verdadeira\")\n",
    "else:\n",
    "    print(\"Código B: só executa caso a condição seja falsa\")\n",
    "\n",
    "print(\"Após a condicional: sempre executa\")"
   ]
  },
  {
   "cell_type": "markdown",
   "metadata": {},
   "source": [
    "As duas construções tratadas acima se baseiam na verificação de **apenas uma condição**, que dependendo de como for avaliada (`True` ou `False`), desencadeia um dentre dois possíveis comportamentos. \n",
    "Mas e se desejarmos construir uma estrutura condicional que permita **mais do que apenas dois \"caminhos\" diferentes**? \n",
    "Neste caso precisamos verificar mais do que uma única condição. Para isso precisamos usar estruturas condicionais aninhadas"
   ]
  },
  {
   "cell_type": "markdown",
   "metadata": {},
   "source": [
    "#### Condicionais aninhadas"
   ]
  },
  {
   "cell_type": "markdown",
   "metadata": {},
   "source": [
    "A primeira forma de incluir mais mais do que uma condição a ser testada na estrutura condicional é por **aninhamento**. Como resultado, teremos uma estrutura hierárquica, em que a execução de uma segunda condição depende do resultado de uma primeira condição. \n",
    "Não há limites para o número de níveis hierárquicos em uma estrutura condicional, apesar de que muitos níveis hierárquicos podem tornar o código mais difícil de entender.\n",
    "\n",
    "**<span style=\"color:red\">Cuidado!</span>** Em *Python* é fundamental respeitar o nível de indentação dos blocos de código em cada nível hierárquico!"
   ]
  },
  {
   "cell_type": "markdown",
   "metadata": {},
   "source": [
    "<img src=\"img/conditionals_nested.png\" width=600/>"
   ]
  },
  {
   "cell_type": "code",
   "execution_count": 3,
   "metadata": {},
   "outputs": [
    {
     "name": "stdout",
     "output_type": "stream",
     "text": [
      "Antes da condicional: sempre executa\n",
      "Código A: só executa caso a condição 1 seja verdadeira (não importa a condição 2)\n",
      "Após a condicional: sempre executa\n"
     ]
    }
   ],
   "source": [
    "print(\"Antes da condicional: sempre executa\")\n",
    "\n",
    "cond1 = True\n",
    "cond2 = True\n",
    "\n",
    "if cond1:\n",
    "    print(\"Código A: só executa caso a condição 1 seja verdadeira (não importa a condição 2)\")\n",
    "else:\n",
    "    if cond2:\n",
    "        print(\"Código B: só executa caso a condição 2 seja verdadeira (condição 1 foi falsa)\")\n",
    "    else:\n",
    "        print(\"Código C: só executa caso a condição 2 seja falsa (condição 1 foi falsa)\")\n",
    "\n",
    "print(\"Após a condicional: sempre executa\")"
   ]
  },
  {
   "cell_type": "markdown",
   "metadata": {},
   "source": [
    "#### A construção *if elif else*"
   ]
  },
  {
   "cell_type": "markdown",
   "metadata": {},
   "source": [
    "Uma sequência de vários `if` e `else` aninhados pode inserir muitos níveis de indentação no código, tornando-o confuso. Para evitar este problema, usamos a construção podemos inserir novas condições a serem verificadas usando a palavra `elif`. Pense no `elif` como uma fusão entre um  `else` e um `if`. O `else` no final captura qualquer caso em que nenhuma das condições anteriores foram satisfeitas."
   ]
  },
  {
   "cell_type": "markdown",
   "metadata": {},
   "source": [
    "O código das condicionais aninhadas na célula acima pode ser reescrito usando um `elif`. Note que agora toda a estrutura condicional está no mesmo nível de indentação!"
   ]
  },
  {
   "cell_type": "code",
   "execution_count": 4,
   "metadata": {},
   "outputs": [
    {
     "name": "stdout",
     "output_type": "stream",
     "text": [
      "Antes da condicional: sempre executa\n",
      "Código A: só executa caso a condição 1 seja verdadeira (não importa a condição 2)\n",
      "Após a condicional: sempre executa\n"
     ]
    }
   ],
   "source": [
    "print(\"Antes da condicional: sempre executa\")\n",
    "\n",
    "cond1 = True\n",
    "cond2 = True\n",
    "\n",
    "if cond1:\n",
    "    print(\"Código A: só executa caso a condição 1 seja verdadeira (não importa a condição 2)\")\n",
    "elif cond2:\n",
    "    print(\"Código B: só executa caso a condição 2 seja verdadeira (condição 1 foi falsa)\")\n",
    "else:\n",
    "    print(\"Código C: só executa caso a condição 2 seja falsa (condição 1 foi falsa)\")\n",
    "\n",
    "print(\"Após a condicional: sempre executa\")"
   ]
  },
  {
   "cell_type": "markdown",
   "metadata": {},
   "source": [
    "## Estruturas de Repetição"
   ]
  },
  {
   "cell_type": "markdown",
   "metadata": {},
   "source": [
    "Estruturas de repetição nos permitem realizar tarefas repetitivas, potencializando o nível de **automação** em nossos programas.\n",
    "**Loops** (em português \"laços de repetição\") são estruturas que garantem que determinada parte do código seja repetida várias vezes. \n",
    "Existem dois tipos fundamentais de loops: (i) ***for* loops** e (ii) ***while* loops**\n"
   ]
  },
  {
   "cell_type": "markdown",
   "metadata": {},
   "source": [
    "### Loops do tipo \"*for*\""
   ]
  },
  {
   "cell_type": "markdown",
   "metadata": {},
   "source": [
    "Loops do tipo \"**for**\" permitem percorrer um objeto iterável (como uma lista, uma tupla ou uma *range*) sequencialmente. Tipicamente, usamos loops do tipo \"*for*\" quando já sabemos, *a priori*, o número de iterações. Sua estrutura é composta por:\n",
    "\n",
    "* uma **variável de iteração** (normalmente chamada `i` ou `j`, mas poderia receber qualquer outro nome);\n",
    "* a **lista** ou objeto iterável. "
   ]
  },
  {
   "cell_type": "markdown",
   "metadata": {},
   "source": [
    "Percorrendo uma lista"
   ]
  },
  {
   "cell_type": "code",
   "execution_count": 5,
   "metadata": {},
   "outputs": [
    {
     "name": "stdout",
     "output_type": "stream",
     "text": [
      "Nova iteração: elemento a\n",
      "Nova iteração: elemento b\n",
      "Nova iteração: elemento c\n",
      "Nova iteração: elemento d\n",
      "Nova iteração: elemento e\n",
      "Nova iteração: elemento f\n"
     ]
    }
   ],
   "source": [
    "lista = ['a','b','c','d','e','f']\n",
    "\n",
    "for i in lista:\n",
    "    print(f\"Nova iteração: elemento {i}\")"
   ]
  },
  {
   "cell_type": "markdown",
   "metadata": {},
   "source": [
    "Percorrendo uma *range*"
   ]
  },
  {
   "cell_type": "code",
   "execution_count": 6,
   "metadata": {},
   "outputs": [
    {
     "name": "stdout",
     "output_type": "stream",
     "text": [
      "Nova iteração: elemento 1\n",
      "Nova iteração: elemento 2\n",
      "Nova iteração: elemento 3\n",
      "Nova iteração: elemento 4\n",
      "Nova iteração: elemento 5\n",
      "Nova iteração: elemento 6\n",
      "Nova iteração: elemento 7\n",
      "Nova iteração: elemento 8\n",
      "Nova iteração: elemento 9\n",
      "Nova iteração: elemento 10\n"
     ]
    }
   ],
   "source": [
    "for i in range(1,11):\n",
    "    print(f\"Nova iteração: elemento {i}\")"
   ]
  },
  {
   "cell_type": "markdown",
   "metadata": {},
   "source": [
    "Percorrendo elementos em um dicionário.\n"
   ]
  },
  {
   "cell_type": "code",
   "execution_count": 7,
   "metadata": {},
   "outputs": [
    {
     "name": "stdout",
     "output_type": "stream",
     "text": [
      "Nova iteração: chave k1 --> valor val1\n",
      "Nova iteração: chave k2 --> valor val2\n",
      "Nova iteração: chave k3 --> valor val3\n",
      "Nova iteração: chave k4 --> valor val4\n",
      "Nova iteração: chave k5 --> valor val5\n"
     ]
    }
   ],
   "source": [
    "dicio = { 'k1':'val1', 'k2':'val2', 'k3':'val3','k4':'val4', 'k5':'val5' }\n",
    "\n",
    "for k,v in dicio.items():\n",
    "    print(f\"Nova iteração: chave {k} --> valor {v}\")"
   ]
  },
  {
   "cell_type": "markdown",
   "metadata": {},
   "source": [
    "**Obs 1.** O método `items` fornece uma lista de 2-tuplas, cada uma contendo uma chave e seu valor, respectivamente. "
   ]
  },
  {
   "cell_type": "markdown",
   "metadata": {},
   "source": [
    "**Dica.** *Sequence unpacking*\n",
    "\n",
    "Quando escrevemos `k,v` no lugar da variável de iteração, estamos associando cada chave a uma variável de nome `k` e cada valor a uma variável de nome `v`. Esta forma de associar as variáveis se chama [*sequence unpacking*](https://docs.python.org/3/tutorial/datastructures.html#tuples-and-sequences).\n",
    "Ela funciona tanto para objetos iteráveis, em geral (listas, tuplas, ranges). No entanto, é necessário que o número de variáveis seja igual ao número de elementos dentro do objeto"
   ]
  },
  {
   "cell_type": "code",
   "execution_count": 8,
   "metadata": {},
   "outputs": [
    {
     "name": "stdout",
     "output_type": "stream",
     "text": [
      "var1 recebe a\n",
      "var2 recebe b\n"
     ]
    }
   ],
   "source": [
    "var1, var2 = ( 'a', 'b' )\n",
    "\n",
    "print(f\"var1 recebe {var1}\")\n",
    "print(f\"var2 recebe {var2}\")"
   ]
  },
  {
   "cell_type": "markdown",
   "metadata": {},
   "source": [
    "**Dica.** *Enumerating*\n",
    "\n",
    "Podemos também usar a função `enumerate` para obter o índice de cada elemento na lista, além de seu valor. A cada iteração, o índice do elemento e o valor são retornados como uma 2-tupla"
   ]
  },
  {
   "cell_type": "code",
   "execution_count": 9,
   "metadata": {},
   "outputs": [
    {
     "name": "stdout",
     "output_type": "stream",
     "text": [
      "Nova iteração (índice 0): elemento a\n",
      "Nova iteração (índice 1): elemento b\n",
      "Nova iteração (índice 2): elemento c\n",
      "Nova iteração (índice 3): elemento d\n",
      "Nova iteração (índice 4): elemento e\n",
      "Nova iteração (índice 5): elemento f\n"
     ]
    }
   ],
   "source": [
    "lista = ['a','b','c','d','e','f']\n",
    "\n",
    "for i,el in enumerate(lista):\n",
    "    print(f\"Nova iteração (índice {i}): elemento {el}\")"
   ]
  },
  {
   "cell_type": "markdown",
   "metadata": {},
   "source": [
    "### Loops do tipo \"*while*\""
   ]
  },
  {
   "cell_type": "markdown",
   "metadata": {},
   "source": [
    "Loops do tipo *while* permitem continuar um loop enquanto determinada condição é satisfeita. São mais adequados nos casos em que não conseguimos determinar, *a priori*, o número total de iterações a serem realizadas."
   ]
  },
  {
   "cell_type": "markdown",
   "metadata": {},
   "source": [
    "Em loops do tipo \"*while*\", normalmente usamos uma variável de controle, como uma **variável contadora** (normalmente chamada `cntr`). Esta variável de controle deve ser atualizada a cada iteração!"
   ]
  },
  {
   "cell_type": "code",
   "execution_count": 10,
   "metadata": {},
   "outputs": [
    {
     "name": "stdout",
     "output_type": "stream",
     "text": [
      "Nova iteração. Variável contadora tem valor 0\n",
      "Nova iteração. Variável contadora tem valor 1\n",
      "Nova iteração. Variável contadora tem valor 2\n",
      "Nova iteração. Variável contadora tem valor 3\n",
      "Nova iteração. Variável contadora tem valor 4\n",
      "Nova iteração. Variável contadora tem valor 5\n",
      "Nova iteração. Variável contadora tem valor 6\n",
      "Nova iteração. Variável contadora tem valor 7\n",
      "Nova iteração. Variável contadora tem valor 8\n",
      "Nova iteração. Variável contadora tem valor 9\n"
     ]
    }
   ],
   "source": [
    "cntr = 0\n",
    "\n",
    "while cntr < 10:\n",
    "    print(f\"Nova iteração. Variável contadora tem valor {cntr}\")\n",
    "    cntr = cntr + 1"
   ]
  },
  {
   "cell_type": "markdown",
   "metadata": {},
   "source": [
    "Podemos também percorrer uma lista com um loop \"*while*\", embora neste caso o \"*for*\" seja mais adequado.\n",
    "Neste caso, a condição é que entramos em um novo loop sempre que o índice (`i`) for menor que o comprimento da lista (`len(lista)`).\n",
    "O índice `i` começa em 0 e é incrementado a cada loop"
   ]
  },
  {
   "cell_type": "code",
   "execution_count": 11,
   "metadata": {},
   "outputs": [
    {
     "name": "stdout",
     "output_type": "stream",
     "text": [
      "Nova iteração: Elemento a (índice 0)\n",
      "Nova iteração: Elemento b (índice 1)\n",
      "Nova iteração: Elemento c (índice 2)\n",
      "Nova iteração: Elemento d (índice 3)\n",
      "Nova iteração: Elemento e (índice 4)\n",
      "Nova iteração: Elemento f (índice 5)\n"
     ]
    }
   ],
   "source": [
    "lista = ['a','b','c','d','e','f']\n",
    "i = 0\n",
    "\n",
    "while i < len(lista):\n",
    "    print(f\"Nova iteração: Elemento {lista[i]} (índice {i})\")\n",
    "    i = i + 1"
   ]
  },
  {
   "cell_type": "markdown",
   "metadata": {},
   "source": [
    "**<span style=\"color:red\">Cuidado!</span>** Loops do tipo \"*while*\" podem originar **loops infinitos**, caso a condição do loop seja atualizada. Isso normalmente ocorre quando o programador se esquece de atualizar ou mesmo incluir a variável de controle. "
   ]
  },
  {
   "cell_type": "code",
   "execution_count": 12,
   "metadata": {},
   "outputs": [
    {
     "name": "stdout",
     "output_type": "stream",
     "text": [
      "Nova iteração\n",
      "Nova iteração\n",
      "Nova iteração\n",
      "Nova iteração\n",
      "Nova iteração\n",
      "Nova iteração\n",
      "Nova iteração\n",
      "Nova iteração\n",
      "Nova iteração\n",
      "Nova iteração\n",
      "Nova iteração\n",
      "Nova iteração\n",
      "Nova iteração\n",
      "Nova iteração\n",
      "Nova iteração\n",
      "Nova iteração\n",
      "Nova iteração\n",
      "Nova iteração\n",
      "Nova iteração\n",
      "Nova iteração\n",
      "Nova iteração\n",
      "...\n"
     ]
    }
   ],
   "source": [
    "# Atenção: esta célula gera um loop infinito. Para finalizá-lo, clique no botão \"pause\", na barra de ferramentas\n",
    "cond=True\n",
    "\n",
    "while cond:\n",
    "    print(\"Nova iteração\")"
   ]
  },
  {
   "cell_type": "markdown",
   "metadata": {},
   "source": [
    "---"
   ]
  },
  {
   "cell_type": "markdown",
   "metadata": {},
   "source": [
    "# 2. Funções"
   ]
  },
  {
   "cell_type": "markdown",
   "metadata": {},
   "source": [
    "Funções são construções que **encapsulam** um determinado comportamento que se espera executar múltiplas vezes durante a execução de um programa.\n",
    "São rotinas, que podem ter sido definidas pelo próprio programador ou por outros programadores, cujos detalhes da implementação são abstraídos para o usuário.\n",
    "O usuário portanto só precisa saber o que precisa saber como operar a função: que tipos de coisas deve fornecer como **entrada** (*input*) e o que deve esperar receber como **saída** (*output*)"
   ]
  },
  {
   "cell_type": "markdown",
   "metadata": {},
   "source": [
    "<img src=\"img/functions.png\">"
   ]
  },
  {
   "cell_type": "markdown",
   "metadata": {},
   "source": [
    "Funções facilitam sua vida por dois motivos principais. \n",
    "\n",
    "1. Permitem ao programador **abstrair** computações, sem precisar se preocupar a todo momento sobre os mínimos detalhes de como elas são de fato realizadas. Imagine se você tivesse que se preocupar com os detalhes sobre como um texto é imprimido na tela de seu computador toda vez que você precisasse desta funcionalidade... Felizmente a função `print` permite que esta rotina seja abstraída para você, o que torna seu trabalho muito mais fluido! \n",
    "\n",
    "2. Permitem **compartilhar** e **reutilizar** código. Se você construir uma função que possa ajudar outras pessoas também, por que não compartilhar? Isso acontece bastante na comunidade de programadores, e os ajuda a não ficar \"reinventando a roda\" quando precisam de alguma funcionalidade que já foi implementada por alguém. "
   ]
  },
  {
   "cell_type": "markdown",
   "metadata": {},
   "source": [
    "Para começar a entender como trabalhar com funções em *Python*, precisamos conhecer seus três componentes principais: *(i)* **nome**, *(ii)* **parâmetros** e *(iii)* **corpo**.\n",
    "\n",
    "Dar um **nome** às funções é uma forma simples de mantermos uma referência a elas. Embora possamos nomear funções conforme nossa vontade, é recomendável escolhermos nomes que nos digam algo sobre seu funcionamento. É fácil lembrar que a função `print`, por exemplo, serve para imprimir algo na tela.\n",
    "\n",
    "Os **parâmetros** fornecem um meio para \"afinarmos\" o comportamento de uma função para nossas necessidades. Os dados de entrada (*inputs*) são também passados para as funções através de parâmetros. No jargão da programação, nos referimos aos valores mapeados para cada um dos parâmetros como **argumentos**. Pense em um parâmetro como um *placeholder* para um valor, enquanto o argumento é o valor em si, passado para dentro da função através de um parâmetro.\n",
    "\n",
    "Por fim, no **corpo** da função especificamos todas as etapas que devem ser realizadas por ela. Estas etapas incluem o processamento dos dados de entrada (*inputs*) e a construção do resultado que ela produzirá como saída (*output*). Lembre-se: no fim das contas, a ideia é que as computações descritas no corpo da função sejam abstraídas para o usuário da função."
   ]
  },
  {
   "cell_type": "markdown",
   "metadata": {},
   "source": [
    "## Definindo funções"
   ]
  },
  {
   "cell_type": "markdown",
   "metadata": {},
   "source": [
    "Para definir (criar) uma nova função precisamos obedecer à seguinte sintaxe:\n",
    "* a palavra `def` indica que uma nova função está sendo definida;\n",
    "* após `def`, deve ser escrito o **nome** da função;\n",
    "* após o nome da função, entre parênteses, os **parâmetros** são separados por vírgulas;\n",
    "* Os dois pontos `:` após os parênteses indica que o **corpo** da função vem a seguir, no bloco de código abaixo. Ele contém todas as instruções (ou algoritmo) que determinam como a função se comporta;\n",
    "* No fim do corpo da função, o valor de saída (*output*) é indicado após a palavra `return`.\n",
    "\n",
    "**<span style=\"color:red\">Cuidado!</span>** \n",
    "O bloco de código deve ser escrito com uma **indentação**, que é o distanciamento em relação à margem esquerda da célula"
   ]
  },
  {
   "cell_type": "markdown",
   "metadata": {},
   "source": [
    "```python\n",
    "def nome_funcao(par1, par2):\n",
    "    instrucao_1\n",
    "    instrucao_2\n",
    "    instrucao_3\n",
    "    return resultado\n",
    "```"
   ]
  },
  {
   "cell_type": "markdown",
   "metadata": {},
   "source": [
    "Para demonstrar como definir funções em *Python*, vamos começar com alguns exemplos bastante simples.\n",
    "As funções a seguir apenas imprimem mensagens no console."
   ]
  },
  {
   "cell_type": "markdown",
   "metadata": {},
   "source": [
    "Podemos declarar funções sem parâmetros"
   ]
  },
  {
   "cell_type": "code",
   "execution_count": 13,
   "metadata": {},
   "outputs": [],
   "source": [
    "def foo():\n",
    "    print(\"Função `foo` foi executada\")\n",
    "    print(\"Como não há parâmetros, o comportamento da função sempre será o mesmo\")"
   ]
  },
  {
   "cell_type": "code",
   "execution_count": 14,
   "metadata": {},
   "outputs": [
    {
     "name": "stdout",
     "output_type": "stream",
     "text": [
      "Função `foo` foi executada\n",
      "Como não há parâmetros, o comportamento da função sempre será o mesmo\n"
     ]
    }
   ],
   "source": [
    "foo()"
   ]
  },
  {
   "cell_type": "markdown",
   "metadata": {},
   "source": [
    "com apenas um parâmetro"
   ]
  },
  {
   "cell_type": "code",
   "execution_count": 15,
   "metadata": {},
   "outputs": [],
   "source": [
    "def bar(par1):\n",
    "    print(\"Função `bar` foi executada\")\n",
    "    print(f\"Parâmetro par1 recebe {par1} como valor (argumento)\")"
   ]
  },
  {
   "cell_type": "code",
   "execution_count": 16,
   "metadata": {},
   "outputs": [
    {
     "name": "stdout",
     "output_type": "stream",
     "text": [
      "Função `bar` foi executada\n",
      "Parâmetro par1 recebe Santos como valor (argumento)\n"
     ]
    }
   ],
   "source": [
    "bar('Santos')"
   ]
  },
  {
   "cell_type": "markdown",
   "metadata": {},
   "source": [
    "ou com múltiplos parâmetros"
   ]
  },
  {
   "cell_type": "code",
   "execution_count": 17,
   "metadata": {},
   "outputs": [],
   "source": [
    "def baz(par1, par2):\n",
    "    print(\"Função `baz` foi executada\")\n",
    "    print(f\"Parâmetro par1 recebe argumento {par1}\")\n",
    "    print(f\"Parâmetro par2 recebe argumento {par2}\")"
   ]
  },
  {
   "cell_type": "code",
   "execution_count": 18,
   "metadata": {},
   "outputs": [
    {
     "name": "stdout",
     "output_type": "stream",
     "text": [
      "Função `baz` foi executada\n",
      "Parâmetro par1 recebe argumento Santos\n",
      "Parâmetro par2 recebe argumento Dumont\n"
     ]
    }
   ],
   "source": [
    "baz('Santos','Dumont')"
   ]
  },
  {
   "cell_type": "markdown",
   "metadata": {},
   "source": [
    "Podemos especificar um valor *default* para os parâmetros, que será usado caso o usuário não forneça outro"
   ]
  },
  {
   "cell_type": "code",
   "execution_count": 19,
   "metadata": {},
   "outputs": [],
   "source": [
    "def baz2(par1, par2=\"Barney\"):\n",
    "    print(\"Função `baz2` foi executada\")\n",
    "    print(f\"Parâmetro par1 recebe argumento {par1}\")\n",
    "    print(f\"Parâmetro par2 recebe argumento {par2}\")"
   ]
  },
  {
   "cell_type": "code",
   "execution_count": 20,
   "metadata": {},
   "outputs": [
    {
     "name": "stdout",
     "output_type": "stream",
     "text": [
      "Função `baz2` foi executada\n",
      "Parâmetro par1 recebe argumento Santos\n",
      "Parâmetro par2 recebe argumento Barney\n"
     ]
    }
   ],
   "source": [
    "baz2('Santos')"
   ]
  },
  {
   "cell_type": "code",
   "execution_count": 21,
   "metadata": {},
   "outputs": [
    {
     "name": "stdout",
     "output_type": "stream",
     "text": [
      "Função `baz2` foi executada\n",
      "Parâmetro par1 recebe argumento Santos\n",
      "Parâmetro par2 recebe argumento Dumont\n"
     ]
    }
   ],
   "source": [
    "baz2('Santos', 'Dumont')"
   ]
  },
  {
   "cell_type": "markdown",
   "metadata": {},
   "source": [
    "Podemos também passar os argumentos fora de ordem, desde que especifiquemos a quais parâmetros eles devem ser mapeados"
   ]
  },
  {
   "cell_type": "code",
   "execution_count": 22,
   "metadata": {},
   "outputs": [
    {
     "name": "stdout",
     "output_type": "stream",
     "text": [
      "Função `baz2` foi executada\n",
      "Parâmetro par1 recebe argumento Santos\n",
      "Parâmetro par2 recebe argumento Dumont\n"
     ]
    }
   ],
   "source": [
    "baz2(par2=\"Dumont\", par1=\"Santos\")"
   ]
  },
  {
   "cell_type": "markdown",
   "metadata": {},
   "source": [
    "## Retornos de funções"
   ]
  },
  {
   "cell_type": "markdown",
   "metadata": {},
   "source": [
    "As funções que vimos acima apenas imprimem mensagens no console.\n",
    "Mas normalmente esperamos que funções retornem os resultados de suas computações como valores, que podem ser associados a variáveis e utilizados em computações subsequentes.\n",
    "Vamos ver como retornar resultados de funções usando a keyword `return`"
   ]
  },
  {
   "cell_type": "markdown",
   "metadata": {},
   "source": [
    "Vamos construir uma função `adicao` que soma dois números e retorna o resultado"
   ]
  },
  {
   "cell_type": "code",
   "execution_count": 23,
   "metadata": {},
   "outputs": [],
   "source": [
    "def adicao(n1,n2):\n",
    "    res = n1 + n2\n",
    "    return res"
   ]
  },
  {
   "cell_type": "code",
   "execution_count": 24,
   "metadata": {},
   "outputs": [
    {
     "data": {
      "text/plain": [
       "10"
      ]
     },
     "execution_count": 24,
     "metadata": {},
     "output_type": "execute_result"
    }
   ],
   "source": [
    "adicao(3,7)"
   ]
  },
  {
   "cell_type": "markdown",
   "metadata": {},
   "source": [
    "Da mesma forma, podemos construir funções que fazem subtração, multiplicação e divisão"
   ]
  },
  {
   "cell_type": "code",
   "execution_count": 25,
   "metadata": {},
   "outputs": [],
   "source": [
    "def subtracao(n1,n2):\n",
    "    res = n1 - n2\n",
    "    return res\n",
    "\n",
    "def multiplicacao(n1,n2):\n",
    "    return n1 * n2\n",
    "\n",
    "def divisao(n1,n2):\n",
    "    return n1/n2"
   ]
  },
  {
   "cell_type": "markdown",
   "metadata": {},
   "source": [
    "Cada uma dessas funções realiza uma determinada operação matemática com dois números `n1` e `n2` e retorna o resultado"
   ]
  },
  {
   "cell_type": "code",
   "execution_count": 26,
   "metadata": {},
   "outputs": [],
   "source": [
    "a,b,c,d = 3,5,7,10"
   ]
  },
  {
   "cell_type": "markdown",
   "metadata": {},
   "source": [
    "Vamos agora fazer as seguintes operações, usando apenas as funções que declaramos acima.\n",
    "Primeiramente usaremos variáveis para armazenar os valores resultantes de cada operação:\n",
    "1. `u` recebe o resultado da adição de `a` e `b`\n",
    "2. `v` recebe o resultado da subtração entre `d` e `c`\n",
    "3. `w` recebe o resultado da multiplicação de `u` e `v`\n",
    "4. `x` recebe o resultado da divisão de `w` por 2"
   ]
  },
  {
   "cell_type": "code",
   "execution_count": 27,
   "metadata": {},
   "outputs": [],
   "source": [
    "u = adicao(a,b)\n",
    "v = subtracao(d,c)\n",
    "w = multiplicacao(u,v)\n",
    "x = divisao(w,2)"
   ]
  },
  {
   "cell_type": "markdown",
   "metadata": {},
   "source": [
    "Vamos verificar o valor final (em `x`)"
   ]
  },
  {
   "cell_type": "code",
   "execution_count": 28,
   "metadata": {},
   "outputs": [
    {
     "data": {
      "text/plain": [
       "12.0"
      ]
     },
     "execution_count": 28,
     "metadata": {},
     "output_type": "execute_result"
    }
   ],
   "source": [
    "x"
   ]
  },
  {
   "cell_type": "markdown",
   "metadata": {},
   "source": [
    "Poderíamos também realizar todas estas etapas em apenas uma expressão, evitando usar variáveis intermediárias. \n",
    "Por definição, funções mais \"internas\", que são passadas como argumentos para outras, executam primeiro.\n",
    "Seus valores retornados são passados como argumentos para funções mais \"externas\". "
   ]
  },
  {
   "cell_type": "code",
   "execution_count": 29,
   "metadata": {},
   "outputs": [
    {
     "data": {
      "text/plain": [
       "12.0"
      ]
     },
     "execution_count": 29,
     "metadata": {},
     "output_type": "execute_result"
    }
   ],
   "source": [
    "divisao( multiplicacao( adicao(a,b), subtracao(d,c) ), 2)"
   ]
  },
  {
   "cell_type": "markdown",
   "metadata": {},
   "source": [
    "No exemplo acima, as funções `adicao` e `subtracao` são as primeiras a serem avaliadas. Seus resultados são usados pela função `multiplicacao` que, por sua vez, tem seu resultado passado para a função `divisão`, que é a última a ser executada"
   ]
  },
  {
   "cell_type": "markdown",
   "metadata": {},
   "source": [
    "## Funções Anônimas, ou *Lambda*"
   ]
  },
  {
   "cell_type": "markdown",
   "metadata": {},
   "source": [
    "Funções *lambda* são consideradas funções anônimas, por não serem necessariamente associadas a um nome. São constituídas por uma única expressão.\n",
    "Sua construção é simples: \n",
    "\n",
    "```python\n",
    "lambda x p1,p2,p3: expressão\n",
    "``` \n",
    "\n",
    "* A keyword `lambda` indica a criação de uma função *lambda*;\n",
    "* O conjunto de **parâmetros** (`p1`, `p2`, `p3`), cada qual separado do próximo por uma vírgula, é inserido após a keyword `lambda`. São encerrados por dois-pontos(`:`);\n",
    "* Após os dois-pontos (`:`), escrevemos uma expressão que irá compor o **corpo** da função. O valor retornado é o resultado da expressão, e portanto não usamos a keyword `return`\n",
    "\n",
    "A grande vantagem é que podemos, em apenas uma linha, construir e executar pequenas funções, sem o passo intermediário de armazená-las em memória. \n",
    "Este comportamento fornece grande agilidade em alguns casos, como por exemplo quando precisamos fornecer funções como argumentos para outras funções.\n",
    "Como veremos nas próximas aulas, é comum usarmos este recurso quando queremos aplicar uma função a um conjunto de dados (mais sobre isso nas próximas aulas)"
   ]
  },
  {
   "cell_type": "markdown",
   "metadata": {},
   "source": [
    "Vamos construir uma função lambda com um único parâmetro `x`, cuja funcionalidade é exponenciar `x` à potência 2"
   ]
  },
  {
   "cell_type": "code",
   "execution_count": 30,
   "metadata": {},
   "outputs": [
    {
     "data": {
      "text/plain": [
       "<function __main__.<lambda>(x)>"
      ]
     },
     "execution_count": 30,
     "metadata": {},
     "output_type": "execute_result"
    }
   ],
   "source": [
    "lambda x: x**2 "
   ]
  },
  {
   "cell_type": "markdown",
   "metadata": {},
   "source": [
    "Agora vamos, em uma linha, construir três variações destas funções e executá-las imediatamente. Perceba que as funções não permanecem em memória, e \"desaparecem\" assim que são executadas"
   ]
  },
  {
   "cell_type": "code",
   "execution_count": 31,
   "metadata": {},
   "outputs": [
    {
     "data": {
      "text/plain": [
       "4"
      ]
     },
     "execution_count": 31,
     "metadata": {},
     "output_type": "execute_result"
    }
   ],
   "source": [
    "(lambda x: x**2)(2)"
   ]
  },
  {
   "cell_type": "code",
   "execution_count": 32,
   "metadata": {},
   "outputs": [
    {
     "data": {
      "text/plain": [
       "8"
      ]
     },
     "execution_count": 32,
     "metadata": {},
     "output_type": "execute_result"
    }
   ],
   "source": [
    "(lambda x: x**3)(2)"
   ]
  },
  {
   "cell_type": "code",
   "execution_count": 33,
   "metadata": {},
   "outputs": [
    {
     "data": {
      "text/plain": [
       "16"
      ]
     },
     "execution_count": 33,
     "metadata": {},
     "output_type": "execute_result"
    }
   ],
   "source": [
    "(lambda x: x**4)(2)"
   ]
  },
  {
   "cell_type": "markdown",
   "metadata": {},
   "source": [
    "Se quisermos, podemos também guardar uma função lambda em memória, bastando para isso associá-la a uma variável"
   ]
  },
  {
   "cell_type": "code",
   "execution_count": 34,
   "metadata": {},
   "outputs": [],
   "source": [
    "exp2 = lambda x: x**2\n",
    "exp3 = lambda x: x**3\n",
    "exp4 = lambda x: x**4"
   ]
  },
  {
   "cell_type": "code",
   "execution_count": 35,
   "metadata": {},
   "outputs": [
    {
     "name": "stdout",
     "output_type": "stream",
     "text": [
      "4\n",
      "8\n",
      "16\n"
     ]
    }
   ],
   "source": [
    "print( exp2(2) )\n",
    "print( exp3(2) )\n",
    "print( exp4(2) )"
   ]
  },
  {
   "cell_type": "markdown",
   "metadata": {},
   "source": [
    "Funções lambda não necessariamente precisam ter apenas um parâmetro! Vamos adicionar o parâmetro `p`, que indica a potência da exponenciação"
   ]
  },
  {
   "cell_type": "code",
   "execution_count": 36,
   "metadata": {},
   "outputs": [],
   "source": [
    "exp = lambda x,p: x**p"
   ]
  },
  {
   "cell_type": "code",
   "execution_count": 37,
   "metadata": {},
   "outputs": [
    {
     "name": "stdout",
     "output_type": "stream",
     "text": [
      "4\n",
      "8\n",
      "16\n"
     ]
    }
   ],
   "source": [
    "print( exp(2,2) )\n",
    "print( exp(2,3) )\n",
    "print( exp(2,4) )"
   ]
  },
  {
   "cell_type": "markdown",
   "metadata": {},
   "source": [
    "Inclusive, podemos fornecer argumentos por *default*"
   ]
  },
  {
   "cell_type": "code",
   "execution_count": 38,
   "metadata": {},
   "outputs": [],
   "source": [
    "exp = lambda x,p=2: x**p"
   ]
  },
  {
   "cell_type": "code",
   "execution_count": 39,
   "metadata": {},
   "outputs": [
    {
     "name": "stdout",
     "output_type": "stream",
     "text": [
      "4\n",
      "4\n",
      "8\n",
      "16\n"
     ]
    }
   ],
   "source": [
    "print( exp(2) ) # por default, a potência é 2\n",
    "print( exp(2,2) )\n",
    "print( exp(2,3) )\n",
    "print( exp(2,4) )"
   ]
  },
  {
   "cell_type": "markdown",
   "metadata": {},
   "source": [
    "---"
   ]
  },
  {
   "cell_type": "markdown",
   "metadata": {},
   "source": [
    "# 3. Classes"
   ]
  },
  {
   "cell_type": "markdown",
   "metadata": {},
   "source": [
    "O conceito de classe vem do paradigma de **programação orientada a objetos**. \n",
    "Como o nome diz, este paradigma se baseia na existência de **objetos**, elementos que são criados durante a execução do programa, que armazenam dados, possuem comportamentos pré-definidos e mantêm estado.\n",
    "Os resultados da execução do programa são obtidos através de várias interações entre objetos distintos."
   ]
  },
  {
   "cell_type": "markdown",
   "metadata": {},
   "source": [
    "**Classes** permitem ao programador definir como cada tipo de objeto deve armazenar dados, bem como quais procedimentos é capaz de realizar.\n",
    "A ideia é que objetos são criados (ou **instanciados**) com base em classes definidas pelo programador.\n",
    "Elas especificam as instruções sobre como construir os objetos de determinado tipo através de **atributos** e **métodos**:\n",
    "\n",
    "**Atributos** definem os dados que pertencem a objetos de determinado tipo. Embora os atributos sejam os mesmos para todos os objetos do mesmo tipo, os valores de cada atributo são diferentes para cada objeto individual (também referido como *instância*).\n",
    "\n",
    "**Métodos**  definem os comportamentos de objetos de determinado tipo. Podem fornecer informação sobre o objeto (métodos \"*getter*\"), ou atualizar seus atributos (métodos \"*setter*\")."
   ]
  },
  {
   "cell_type": "markdown",
   "metadata": {},
   "source": [
    "### Construindo objetos"
   ]
  },
  {
   "cell_type": "markdown",
   "metadata": {},
   "source": [
    "Objetos são instanciados segundo o padrão especificado da classe.\n",
    "Um método especial, chamado **construtor** (em python, seu nome é `__init__`), é o primeiro a ser executado durante a instanciação, e guarda as instruções para a construção do objeto.\n",
    "Nele são definidos os valores para cada um dos atributos."
   ]
  },
  {
   "cell_type": "markdown",
   "metadata": {},
   "source": [
    "Vamos definir uma nova classe, chamada `Vehicle`, que especifica objetos que representam veículos.\n",
    "O construtor `__init__` é o único método que deve ser necessariamente implementado na definição de qualquer classe.\n",
    "Por enquanto a classe `Vehicle` possui apenas quatro atributos (`type`, `model`, `manufacturer` e `seat_capacity`), e não possui métodos"
   ]
  },
  {
   "cell_type": "code",
   "execution_count": 40,
   "metadata": {},
   "outputs": [],
   "source": [
    "class Vehicle:\n",
    "    \n",
    "    def __init__(self, type, model, manufacturer, seat_capacity):\n",
    "        self.type = type\n",
    "        self.model = model\n",
    "        self.manufacturer = manufacturer\n",
    "        self.seat_capacity = seat_capacity"
   ]
  },
  {
   "cell_type": "markdown",
   "metadata": {},
   "source": [
    "**Obs.** a keyword `self` deve sempre ser o primeiro parâmetro de qualquer método definido dentro de uma classe.\n",
    "Ela se refere ao objeto sendo instanciado, e precisa ser usada sempre que queremos resgatar ou atribuir valores aos atributos da instância."
   ]
  },
  {
   "cell_type": "markdown",
   "metadata": {},
   "source": [
    "Agora vamos criar dois veículos: um avião e um carro, ambos instâncias de `Vehicle`. Os objetos serão atribuídos às variáveis `myPlane` e `myCar`, respectivamente, para que possam ser referenciados posteriormente.\n",
    "Como as instâncias são diferentes umas das outras, passamos para o construtor de cada uma os valores que devem ser estabelecidos como atributos, na forma de argumentos."
   ]
  },
  {
   "cell_type": "code",
   "execution_count": 41,
   "metadata": {},
   "outputs": [],
   "source": [
    "myPlane = Vehicle('plane', \"A320\", \"Airbus\", 180)\n",
    "myCar = Vehicle('car', model=\"Uno\", manufacturer=\"Fiat\", seat_capacity=5)"
   ]
  },
  {
   "cell_type": "markdown",
   "metadata": {},
   "source": [
    "Usamos a notação de ponto (`.`) para acessar atributos e métodos de objetos. Podemos consultar os valores dos atributos"
   ]
  },
  {
   "cell_type": "code",
   "execution_count": 42,
   "metadata": {},
   "outputs": [
    {
     "name": "stdout",
     "output_type": "stream",
     "text": [
      "plane\n",
      "Airbus\n",
      "A320\n",
      "180\n"
     ]
    }
   ],
   "source": [
    "print( myPlane.type )\n",
    "print( myPlane.manufacturer )\n",
    "print( myPlane.model )\n",
    "print( myPlane.seat_capacity )"
   ]
  },
  {
   "cell_type": "code",
   "execution_count": 43,
   "metadata": {},
   "outputs": [
    {
     "name": "stdout",
     "output_type": "stream",
     "text": [
      "car\n",
      "Fiat\n",
      "Uno\n",
      "5\n"
     ]
    }
   ],
   "source": [
    "print( myCar.type )\n",
    "print( myCar.manufacturer )\n",
    "print( myCar.model )\n",
    "print( myCar.seat_capacity )"
   ]
  },
  {
   "cell_type": "markdown",
   "metadata": {},
   "source": [
    "ou alterar diretamente os valores dos atributos (embora esta abordagem não seja recomendada)"
   ]
  },
  {
   "cell_type": "code",
   "execution_count": 44,
   "metadata": {},
   "outputs": [],
   "source": [
    "myPlane.model = 'a321'"
   ]
  },
  {
   "cell_type": "code",
   "execution_count": 45,
   "metadata": {},
   "outputs": [
    {
     "data": {
      "text/plain": [
       "'a321'"
      ]
     },
     "execution_count": 45,
     "metadata": {},
     "output_type": "execute_result"
    }
   ],
   "source": [
    "myPlane.model"
   ]
  },
  {
   "cell_type": "markdown",
   "metadata": {},
   "source": [
    "### Consultando dados do objeto com métodos \"*getter*\""
   ]
  },
  {
   "cell_type": "markdown",
   "metadata": {},
   "source": [
    "Em programação orientada a objetos, uma boa prática é prevenir o acesso direto a atributos do objeto, de forma a manter o **encapsulamento de dados**. Assim, os atributos do objeto tornam-se privados, sendo apenas visíveis pelo próprio objeto. Uma vantagem direta desta abordagem é que assim evitamos que nosso código modifique os atributos inadvertidamente. Outra vantagem é que adicionamos uma camada de abstração ao objeto: não importa muito como a informação é representada internamente ao objeto, podemos processá-la antes de externalizá-la. \n",
    "\n",
    "Vamos então adicionar dois métodos *getter* à nossa classe `Vehicle`"
   ]
  },
  {
   "cell_type": "code",
   "execution_count": 46,
   "metadata": {},
   "outputs": [],
   "source": [
    "class Vehicle:\n",
    "    \n",
    "    def __init__(self, type, model, manufacturer, seat_capacity):\n",
    "        self.type = type\n",
    "        self.model = model\n",
    "        self.manufacturer = manufacturer\n",
    "        self.seat_capacity = seat_capacity\n",
    "        \n",
    "    # Getter methods\n",
    "    \n",
    "    def getModel(self):\n",
    "        return f\"{self.manufacturer} {self.model}\"\n",
    "        \n",
    "    def getSeatCapacity(self):\n",
    "        return self.seat_capacity"
   ]
  },
  {
   "cell_type": "markdown",
   "metadata": {},
   "source": [
    "O método `getModel` retorna o modelo do veículo, após o nome do fabricante. \n",
    "O método `getNumPassengers` simplesmente retorna o numero de passageiros que o veículo comporta.\n",
    "Note que decidimos não externalizar o tipo (atributo `type`) do veículo"
   ]
  },
  {
   "cell_type": "code",
   "execution_count": 47,
   "metadata": {},
   "outputs": [],
   "source": [
    "myPlane = Vehicle('plane', \"A320\", \"Airbus\", 180)\n",
    "myCar = Vehicle('car', model=\"Uno\", manufacturer=\"Fiat\", seat_capacity=5)"
   ]
  },
  {
   "cell_type": "code",
   "execution_count": 48,
   "metadata": {},
   "outputs": [
    {
     "name": "stdout",
     "output_type": "stream",
     "text": [
      "Airbus A320\n",
      "Cabem 180 passageiros no Airbus A320\n"
     ]
    }
   ],
   "source": [
    "print( myPlane.getModel() )\n",
    "print( f\"Cabem {myPlane.getSeatCapacity()} passageiros no {myPlane.getModel()}\" )"
   ]
  },
  {
   "cell_type": "code",
   "execution_count": 49,
   "metadata": {},
   "outputs": [
    {
     "name": "stdout",
     "output_type": "stream",
     "text": [
      "Fiat Uno\n",
      "Cabem 5 passageiros no Fiat Uno\n"
     ]
    }
   ],
   "source": [
    "print( myCar.getModel() )\n",
    "print( f\"Cabem {myCar.getSeatCapacity()} passageiros no {myCar.getModel()}\" )"
   ]
  },
  {
   "cell_type": "markdown",
   "metadata": {},
   "source": [
    "### Atualizando dados do objeto com métodos \"*setter*\""
   ]
  },
  {
   "cell_type": "markdown",
   "metadata": {},
   "source": [
    "Frequentemente precisamos atualizar valores de atributos de objetos.\n",
    "Vamos adicionar à classe `Vehicle` a funcionalidade de embarcar e desembarcar passageiros."
   ]
  },
  {
   "cell_type": "markdown",
   "metadata": {},
   "source": [
    "Para isso, faremos algumas modificações:\n",
    "\n",
    "1. Adicionamos um atributo `n_passengers_onboard`, que armazena o número de passageiros a bordo. Este atributo é inicializado com o valor zero. Ou seja, no momento em que o objeto é criado não há nenhum passageiro embarcado;\n",
    "\n",
    "2. Adicionamos mais dois métodos \"*getter*\": `getNumPassengersOnboard` retorna o número de passageiros que se encontram a bordo do veículo; e `getNumSeatsAvailable` retorna o número de assentos ainda disponíveis;\n",
    "\n",
    "3. Adicionamos três métodos \"*setter*\": `removeAllPassengers` remove todos os passageiros a bordo; `embarkPassengers` adiciona $n$ passageiros ao veículo, desde que haja espaço; `removePassengers` remove $n$ passageiros do veículo."
   ]
  },
  {
   "cell_type": "code",
   "execution_count": 50,
   "metadata": {},
   "outputs": [],
   "source": [
    "class Vehicle:\n",
    "    \n",
    "    def __init__(self, type, model, manufacturer, seat_capacity):\n",
    "        self.type = type\n",
    "        self.model = model\n",
    "        self.manufacturer = manufacturer\n",
    "        self.seat_capacity = seat_capacity\n",
    "        \n",
    "        self.n_passengers_onboard = 0\n",
    "        \n",
    "    # Getter methods\n",
    "    \n",
    "    def getModel(self):\n",
    "        return f\"{self.manufacturer} {self.model}\"\n",
    "        \n",
    "    def getSeatCapacity(self):\n",
    "        return self.seat_capacity\n",
    "    \n",
    "    def getNumPassengersOnboard(self):\n",
    "        return self.n_passengers_onboard\n",
    "    \n",
    "    def getNumSeatsAvailable(self):\n",
    "        return self.seat_capacity - self.n_passengers_onboard\n",
    "    \n",
    "    # Setter methods\n",
    "    \n",
    "    def removeAllPassengers(self):\n",
    "        self.n_passengers_onboard = 0\n",
    "        \n",
    "    def embarkPassengers(self, n_passengers_to_embark):\n",
    "        \n",
    "        available_seats = self.getNumSeatsAvailable()\n",
    "        \n",
    "        if available_seats >= n_passengers_to_embark:\n",
    "            self.n_passengers_onboard += n_passengers_to_embark\n",
    "            return f\"Mais {n_passengers_to_embark} passageiros embarcados com sucesso!\"\n",
    "        \n",
    "        else:\n",
    "            return f\"Impossível embarcar mais {n_passengers_to_embark} passageiros! Apenas {available_seats} assentos disponíveis.\"\n",
    "        \n",
    "    def removePassengers(self, n_passengers_to_remove):\n",
    "        \n",
    "        if n_passengers_to_remove <= self.n_passengers_onboard:\n",
    "            self.n_passengers_onboard -= n_passengers_to_remove\n",
    "            return f\"Desembarcaram {n_passengers_to_remove} passageiros\"\n",
    "        \n",
    "        elif self.n_passengers_onboard > 0:\n",
    "            n_passengers_remaining = self.n_passengers_onboard\n",
    "            self.removeAllPassengers()\n",
    "            return f\"Havia apenas {n_passengers_remaining} embarcados! Todos desembarcaram.\"\n",
    "        \n",
    "        else:\n",
    "            return \"Nenhum passageiro a bordo\""
   ]
  },
  {
   "cell_type": "markdown",
   "metadata": {},
   "source": [
    "Vamos então recriar o avião e o carro, embarcar e desembarcar passageiros"
   ]
  },
  {
   "cell_type": "code",
   "execution_count": 51,
   "metadata": {},
   "outputs": [],
   "source": [
    "myPlane = Vehicle('plane', \"A320\", \"Airbus\", 180)\n",
    "myCar = Vehicle('car', \"Uno\", \"Fiat\", 5)"
   ]
  },
  {
   "cell_type": "markdown",
   "metadata": {},
   "source": [
    "No avião:"
   ]
  },
  {
   "cell_type": "code",
   "execution_count": 52,
   "metadata": {},
   "outputs": [
    {
     "name": "stdout",
     "output_type": "stream",
     "text": [
      "Mais 50 passageiros embarcados com sucesso!\n",
      "50 passageiros a bordo\n",
      "130 assentos disponíveis\n"
     ]
    }
   ],
   "source": [
    "print( myPlane.embarkPassengers(50) )\n",
    "print( f\"{myPlane.getNumPassengersOnboard()} passageiros a bordo\" )\n",
    "print( f\"{myPlane.getNumSeatsAvailable()} assentos disponíveis\" )"
   ]
  },
  {
   "cell_type": "code",
   "execution_count": 53,
   "metadata": {},
   "outputs": [
    {
     "name": "stdout",
     "output_type": "stream",
     "text": [
      "Desembarcaram 5 passageiros\n",
      "45 passageiros a bordo\n",
      "135 assentos disponíveis\n"
     ]
    }
   ],
   "source": [
    "print(myPlane.removePassengers(5))\n",
    "print( f\"{myPlane.getNumPassengersOnboard()} passageiros a bordo\" )\n",
    "print( f\"{myPlane.getNumSeatsAvailable()} assentos disponíveis\" )"
   ]
  },
  {
   "cell_type": "markdown",
   "metadata": {},
   "source": [
    "No carro:"
   ]
  },
  {
   "cell_type": "code",
   "execution_count": 54,
   "metadata": {},
   "outputs": [
    {
     "name": "stdout",
     "output_type": "stream",
     "text": [
      "Mais 5 passageiros embarcados com sucesso!\n",
      "5 passageiros a bordo\n",
      "0 assentos disponíveis\n"
     ]
    }
   ],
   "source": [
    "print( myCar.embarkPassengers(5) )\n",
    "print( f\"{myCar.getNumPassengersOnboard()} passageiros a bordo\" )\n",
    "print( f\"{myCar.getNumSeatsAvailable()} assentos disponíveis\" )"
   ]
  },
  {
   "cell_type": "code",
   "execution_count": 55,
   "metadata": {},
   "outputs": [
    {
     "name": "stdout",
     "output_type": "stream",
     "text": [
      "Desembarcaram 5 passageiros\n",
      "0 passageiros a bordo\n",
      "5 assentos disponíveis\n"
     ]
    }
   ],
   "source": [
    "print(myCar.removePassengers(5))\n",
    "print( f\"{myCar.getNumPassengersOnboard()} passageiros a bordo\" )\n",
    "print( f\"{myCar.getNumSeatsAvailable()} assentos disponíveis\" )"
   ]
  },
  {
   "cell_type": "markdown",
   "metadata": {},
   "source": [
    "### Herança"
   ]
  },
  {
   "cell_type": "markdown",
   "metadata": {},
   "source": [
    "Um conceito muito importante na programação orientada a objetos é a **herança** (*inheritance*).\n",
    "**Subclasses** podem \"herdar\" comportamentos e atributos de sua **superclasse**, ou classe-pai."
   ]
  },
  {
   "cell_type": "markdown",
   "metadata": {},
   "source": [
    "Vamos criar duas novas subclasses, `Airplane` e `Car`, que são veículos mais \"específicos\".\n",
    "Elas extendem a superclasse `Vehicle`, que é mais \"genérica\".\n",
    "Alguns pontos importantes:"
   ]
  },
  {
   "cell_type": "markdown",
   "metadata": {},
   "source": [
    "#### Construtores\n",
    "As subclasses têm seus próprios métodos construtores (`__init__`), que não usam o argumento `type`. Isso porque o tipo da classe `Airplane` sempre será `'plane'`, enquanto o tipo da classe `Car` sempre será `'car'`. Este atributo, no entanto, é passado para o construtor da superclasse (`super().__init__`). Além disso, a classe `Airplane` espera um novo argumento `airline`, que guarda o nome da companhia aérea e, portanto, é um atributo exclusivo de aeronaves\n",
    "\n",
    "\n",
    "#### Novos métodos e atributos\n",
    "Subclasses podem ter métodos e atributos que não existiam em sua superclasse. No nosso exemplo, a classe `Airplane` possui o método `takeoff`, enquanto a classe `Car` possui o método `drive`. Não faria sentido um método chamado `takeoff` na classe `Vehicle`, pois nem todos os veículos podem decolar.\n",
    "O atributo `airline`, também exclusivo da classe `Airplane`, também não faria sentido para outros veículos como carros ou barcos.\n",
    "\n",
    "#### Substituição (*overriding*)\n",
    "Um subclasse pode substituir o comportamento herdado de sua superclasse, através de um mecanismo chamado *overriding* (substituição, em português). Em *Python*, isso pode ser feito simplesmente reimplementando o método da superclasse. Na classe `Car`, por exemplo, o método `embarkPassengers` foi substituído, sendo adicionado o parâmetro `name_driver`, que deve receber o nome do motorista. Este comportamento portanto ocorre apenas em carros, e não substitui o comportamento do mesmo método na classe `Airplane` nem na classe `Vehicle`."
   ]
  },
  {
   "cell_type": "code",
   "execution_count": 56,
   "metadata": {},
   "outputs": [],
   "source": [
    "class Airplane(Vehicle):\n",
    "    def __init__(self, model, manufacturer, airline, seat_capacity):\n",
    "        super().__init__(type='plane',model=model,manufacturer=manufacturer,seat_capacity=seat_capacity)\n",
    "        self.airline = airline\n",
    "        \n",
    "    def takeoff(self):\n",
    "        print(f\"O {self.getModel()} da {self.airline} está decolando com {self.getNumPassengersOnboard()} passageiros\")\n",
    "        \n",
    "        \n",
    "        \n",
    "        \n",
    "        \n",
    "class Car(Vehicle):\n",
    "    def __init__(self, model, manufacturer, seat_capacity):\n",
    "        super().__init__(type='car',model=model,manufacturer=manufacturer,seat_capacity=seat_capacity)\n",
    "        \n",
    "    def embarkPassengers(self, n_passengers_to_embark, name_driver):\n",
    "\n",
    "            available_seats = self.getNumSeatsAvailable()\n",
    "            self.name_driver = name_driver\n",
    "\n",
    "            if available_seats >= n_passengers_to_embark:\n",
    "                self.n_passengers_onboard += n_passengers_to_embark\n",
    "                return f\"Mais {n_passengers_to_embark} passageiros embarcados com sucesso!\"\n",
    "\n",
    "            else:\n",
    "                return f\"Impossível embarcar mais {n_passengers_to_embark} passageiros! Apenas {available_seats} assentos disponíveis.\"\n",
    "\n",
    "        \n",
    "    def drive(self):\n",
    "        if self.getNumPassengersOnboard()>0:\n",
    "            print(f\"O {self.getModel()}, conduzido por {self.name_driver}, está na estrada com {self.getNumPassengersOnboard()} passageiros\")\n",
    "\n",
    "        else:\n",
    "            print(\"Um carro não pode operar sem motorista!\")"
   ]
  },
  {
   "cell_type": "markdown",
   "metadata": {},
   "source": [
    "Vamos agora testar as subclasses"
   ]
  },
  {
   "cell_type": "code",
   "execution_count": 57,
   "metadata": {},
   "outputs": [
    {
     "name": "stdout",
     "output_type": "stream",
     "text": [
      "Mais 130 passageiros embarcados com sucesso!\n",
      "O Airbus A320 da Latam está decolando com 130 passageiros\n"
     ]
    }
   ],
   "source": [
    "latamPlane = Airplane('A320','Airbus', \"Latam\", 180)\n",
    "\n",
    "print(latamPlane.embarkPassengers(130))\n",
    "latamPlane.takeoff()"
   ]
  },
  {
   "cell_type": "code",
   "execution_count": 58,
   "metadata": {},
   "outputs": [
    {
     "name": "stdout",
     "output_type": "stream",
     "text": [
      "Mais 70 passageiros embarcados com sucesso!\n",
      "O Embraer ERJ190 da Azul está decolando com 70 passageiros\n"
     ]
    }
   ],
   "source": [
    "azulPlane = Airplane('ERJ190','Embraer', \"Azul\", 100)\n",
    "\n",
    "print(azulPlane.embarkPassengers(70))\n",
    "azulPlane.takeoff()"
   ]
  },
  {
   "cell_type": "code",
   "execution_count": 59,
   "metadata": {},
   "outputs": [
    {
     "name": "stdout",
     "output_type": "stream",
     "text": [
      "Mais 3 passageiros embarcados com sucesso!\n",
      "O Fiat Uno, conduzido por Sérgio, está na estrada com 3 passageiros\n"
     ]
    }
   ],
   "source": [
    "myCar = Car('Uno','Fiat', 5)\n",
    "\n",
    "print(myCar.embarkPassengers(3, name_driver=\"Sérgio\"))\n",
    "myCar.drive()"
   ]
  }
 ],
 "metadata": {
  "kernelspec": {
   "display_name": "Python 3",
   "language": "python",
   "name": "python3"
  },
  "language_info": {
   "codemirror_mode": {
    "name": "ipython",
    "version": 3
   },
   "file_extension": ".py",
   "mimetype": "text/x-python",
   "name": "python",
   "nbconvert_exporter": "python",
   "pygments_lexer": "ipython3",
   "version": "3.6.5"
  }
 },
 "nbformat": 4,
 "nbformat_minor": 2
}
