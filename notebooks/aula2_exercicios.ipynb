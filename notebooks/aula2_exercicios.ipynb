{
 "cells": [
  {
   "cell_type": "markdown",
   "metadata": {},
   "source": [
    "# Aula 2. Estruturas de controle, Funções e Classes - Exercícios"
   ]
  },
  {
   "cell_type": "markdown",
   "metadata": {
    "heading_collapsed": true
   },
   "source": [
    "### Exercício 1. Produto escalar de vetores"
   ]
  },
  {
   "cell_type": "markdown",
   "metadata": {
    "hidden": true
   },
   "source": [
    "Escreva uma função `vectdot` para obter produto escalar de dois vetores `v1` e `v2` quaisquer. Caso não seja possível (comprimentos distintos), a função deve retornar uma mensagem de erro"
   ]
  },
  {
   "cell_type": "code",
   "execution_count": 1,
   "metadata": {
    "hidden": true
   },
   "outputs": [],
   "source": [
    "def vectdot(v1,v2):\n",
    "    if len(v1)!=len(v2):\n",
    "        return f\"Erro! Vetores têm comprimentos diferentes: len(v1)={len(v1)} e len(v2)={len(v2)}\"\n",
    "    else:\n",
    "        return sum( t[0]*t[1] for t in zip(v1,v2) )"
   ]
  },
  {
   "cell_type": "markdown",
   "metadata": {
    "hidden": true
   },
   "source": [
    "Teste sua função executando as células abaixo"
   ]
  },
  {
   "cell_type": "code",
   "execution_count": 2,
   "metadata": {
    "hidden": true
   },
   "outputs": [
    {
     "data": {
      "text/plain": [
       "3"
      ]
     },
     "execution_count": 2,
     "metadata": {},
     "output_type": "execute_result"
    }
   ],
   "source": [
    "vectdot([2,2,3],[0,0,1])"
   ]
  },
  {
   "cell_type": "code",
   "execution_count": 3,
   "metadata": {
    "hidden": true
   },
   "outputs": [
    {
     "data": {
      "text/plain": [
       "'Erro! Vetores têm comprimentos diferentes: len(v1)=3 e len(v2)=2'"
      ]
     },
     "execution_count": 3,
     "metadata": {},
     "output_type": "execute_result"
    }
   ],
   "source": [
    "vectdot([2,2,3],[1,2])"
   ]
  },
  {
   "cell_type": "markdown",
   "metadata": {
    "hidden": true
   },
   "source": [
    "---"
   ]
  },
  {
   "cell_type": "markdown",
   "metadata": {
    "heading_collapsed": true
   },
   "source": [
    "### Exercício 2. Multiplicação de matrizes"
   ]
  },
  {
   "cell_type": "markdown",
   "metadata": {
    "hidden": true
   },
   "source": [
    "No fim deste exercício você deverá implementar uma função `matmul`, que computa a multiplicação de matrizes.\n",
    "Mas antes construa funções mais simples, que irão abstraindo complexidade gradativamente e simplificarão a função final"
   ]
  },
  {
   "cell_type": "markdown",
   "metadata": {
    "hidden": true
   },
   "source": [
    "A primeira destas funções é a função `dim`. \n",
    "Ela deve retornar a dimensão de uma matriz na forma de um par ordenado (tupla com dois elementos): o primeiro é o número de linhas e o segundo, o número de colunas da matriz"
   ]
  },
  {
   "cell_type": "code",
   "execution_count": 4,
   "metadata": {
    "hidden": true
   },
   "outputs": [],
   "source": [
    "def dim(m):\n",
    "    return len(m), len(m[0])"
   ]
  },
  {
   "cell_type": "markdown",
   "metadata": {
    "hidden": true
   },
   "source": [
    "Teste sua função executando as células abaixo"
   ]
  },
  {
   "cell_type": "code",
   "execution_count": 5,
   "metadata": {
    "hidden": true
   },
   "outputs": [
    {
     "data": {
      "text/plain": [
       "(3, 2)"
      ]
     },
     "execution_count": 5,
     "metadata": {},
     "output_type": "execute_result"
    }
   ],
   "source": [
    "m = [ [ 1, 2],\n",
    "      [ 3, 4],\n",
    "      [-1, 2] ]\n",
    "\n",
    "dim(m)"
   ]
  },
  {
   "cell_type": "code",
   "execution_count": 6,
   "metadata": {
    "hidden": true
   },
   "outputs": [
    {
     "data": {
      "text/plain": [
       "(2, 4)"
      ]
     },
     "execution_count": 6,
     "metadata": {},
     "output_type": "execute_result"
    }
   ],
   "source": [
    "m = [[1,2,3,4],\n",
    "     [5,6,7,8]]\n",
    "dim(m)"
   ]
  },
  {
   "cell_type": "markdown",
   "metadata": {
    "hidden": true
   },
   "source": [
    "Vamos agora construir uma função de **transposição**, operação em que vetores-linha da matriz viram vetores-coluna e vice-versa"
   ]
  },
  {
   "cell_type": "code",
   "execution_count": 7,
   "metadata": {
    "hidden": true
   },
   "outputs": [],
   "source": [
    "def transpose(m):\n",
    "    res_m = []\n",
    "    n_rows = len(m)\n",
    "    n_cols = len(m[0])\n",
    "    \n",
    "    for i in range(n_cols):\n",
    "        res_m += [[]]\n",
    "        for j in range(n_rows):\n",
    "            res_m[i] += [ m[j][i] ]\n",
    "    \n",
    "    return res_m"
   ]
  },
  {
   "cell_type": "markdown",
   "metadata": {
    "hidden": true
   },
   "source": [
    "Teste sua função executando as células abaixo"
   ]
  },
  {
   "cell_type": "code",
   "execution_count": 8,
   "metadata": {
    "hidden": true
   },
   "outputs": [
    {
     "data": {
      "text/plain": [
       "[[1, 4, 7], [2, 5, 8], [3, 6, 9]]"
      ]
     },
     "execution_count": 8,
     "metadata": {},
     "output_type": "execute_result"
    }
   ],
   "source": [
    "m = [[1,2,3],\n",
    "     [4,5,6],\n",
    "     [7,8,9]]\n",
    "\n",
    "transpose(m)"
   ]
  },
  {
   "cell_type": "code",
   "execution_count": 9,
   "metadata": {
    "hidden": true
   },
   "outputs": [
    {
     "data": {
      "text/plain": [
       "[[1, 1, 2], [2, 3, 3]]"
      ]
     },
     "execution_count": 9,
     "metadata": {},
     "output_type": "execute_result"
    }
   ],
   "source": [
    "m = [[1,2],[1,3],[2,3]]\n",
    "\n",
    "transpose(m)"
   ]
  },
  {
   "cell_type": "code",
   "execution_count": 10,
   "metadata": {
    "hidden": true
   },
   "outputs": [
    {
     "data": {
      "text/plain": [
       "[[1], [2], [3], [4]]"
      ]
     },
     "execution_count": 10,
     "metadata": {},
     "output_type": "execute_result"
    }
   ],
   "source": [
    "m = [[1,2,3,4]]\n",
    "\n",
    "transpose(m)"
   ]
  },
  {
   "cell_type": "markdown",
   "metadata": {
    "hidden": true
   },
   "source": [
    "Agora faremos duas novas funções, para retornar a n-ésima linha ou coluna de uma matriz.\n",
    "\n",
    "A função `getRow` recebe como argumentos a matriz e o índice da linha a ser resgatada."
   ]
  },
  {
   "cell_type": "code",
   "execution_count": 11,
   "metadata": {
    "hidden": true
   },
   "outputs": [],
   "source": [
    "def getRow(m,idx):\n",
    "    return m[idx]"
   ]
  },
  {
   "cell_type": "code",
   "execution_count": 12,
   "metadata": {
    "hidden": true
   },
   "outputs": [
    {
     "data": {
      "text/plain": [
       "[5, 4]"
      ]
     },
     "execution_count": 12,
     "metadata": {},
     "output_type": "execute_result"
    }
   ],
   "source": [
    "m = [ [2,1],\n",
    "      [3,3],\n",
    "      [5,4] ]\n",
    "\n",
    "getRow(m,2)"
   ]
  },
  {
   "cell_type": "markdown",
   "metadata": {
    "hidden": true
   },
   "source": [
    "A função `getCol` recebe como argumentos a matriz e o índice da coluna a ser resgatada"
   ]
  },
  {
   "cell_type": "code",
   "execution_count": 13,
   "metadata": {
    "hidden": true
   },
   "outputs": [],
   "source": [
    "def getCol(m,idx):\n",
    "    return transpose(m)[idx]"
   ]
  },
  {
   "cell_type": "code",
   "execution_count": 14,
   "metadata": {
    "hidden": true
   },
   "outputs": [
    {
     "data": {
      "text/plain": [
       "[2, 3, 5]"
      ]
     },
     "execution_count": 14,
     "metadata": {},
     "output_type": "execute_result"
    }
   ],
   "source": [
    "m = [ [2,1],\n",
    "      [3,3],\n",
    "      [5,4] ]\n",
    "\n",
    "getCol(m,0)"
   ]
  },
  {
   "cell_type": "markdown",
   "metadata": {
    "hidden": true
   },
   "source": [
    "Finalmente, com a ajuda das funções que criamos acima, podemos construir nossa função de multiplicação de matrizes. \n",
    "\n",
    "**Atenção!** Caso as dimensões das matrizes sejam incompatíveis para a operação de multiplicação, a função deve imprimir um erro e retornar nulo"
   ]
  },
  {
   "cell_type": "code",
   "execution_count": 15,
   "metadata": {
    "hidden": true
   },
   "outputs": [],
   "source": [
    "def matmul(m1,m2):\n",
    "    if dim(m1)[1]==dim(m2)[0]: # Verifica se número de colunas de m1 é igual ao número de linhas de m2\n",
    "        res_m = []\n",
    "        res_m_nrows = dim(m1)[0]\n",
    "        res_m_ncols = dim(m2)[1]\n",
    "\n",
    "        for i in range(res_m_nrows):\n",
    "            res_m += [[]]\n",
    "            for j in range(res_m_ncols):\n",
    "                res_m[i] += [ vectdot(getRow(m1,i),getCol(m2,j)) ]\n",
    "\n",
    "        return res_m\n",
    "    else:\n",
    "        print(f\"Dimensões incompatíveis: dim(m1)={dim(m1)} e dim(m2)={dim(m2)}\")\n",
    "        return None"
   ]
  },
  {
   "cell_type": "code",
   "execution_count": 16,
   "metadata": {
    "hidden": true
   },
   "outputs": [
    {
     "data": {
      "text/plain": [
       "[[23, 19], [53, 43]]"
      ]
     },
     "execution_count": 16,
     "metadata": {},
     "output_type": "execute_result"
    }
   ],
   "source": [
    "m1 = [ [1,2,3],\n",
    "       [4,5,6] ]\n",
    "\n",
    "m2 = [ [2,1],\n",
    "       [3,3],\n",
    "       [5,4]]\n",
    "\n",
    "matmul(m1,m2)"
   ]
  },
  {
   "cell_type": "code",
   "execution_count": 17,
   "metadata": {
    "hidden": true
   },
   "outputs": [
    {
     "data": {
      "text/plain": [
       "[[23, 19], [53, 43], [63, 51]]"
      ]
     },
     "execution_count": 17,
     "metadata": {},
     "output_type": "execute_result"
    }
   ],
   "source": [
    "m1 = [ [1,2,3],\n",
    "       [4,5,6],\n",
    "       [5,6,7]]\n",
    "\n",
    "m2 = [ [2,1],\n",
    "       [3,3],\n",
    "       [5,4]]\n",
    "\n",
    "matmul(m1,m2)"
   ]
  },
  {
   "cell_type": "code",
   "execution_count": 18,
   "metadata": {
    "hidden": true
   },
   "outputs": [
    {
     "name": "stdout",
     "output_type": "stream",
     "text": [
      "Dimensões incompatíveis: dim(m1)=(3, 3) e dim(m2)=(4, 2)\n"
     ]
    }
   ],
   "source": [
    "m1 = [ [1,2,3],\n",
    "       [4,5,6],\n",
    "       [5,6,7]]\n",
    "\n",
    "m2 = [ [2,1],\n",
    "       [3,3],\n",
    "       [5,4],\n",
    "       [7,8]]\n",
    "\n",
    "matmul(m1,m2)"
   ]
  },
  {
   "cell_type": "markdown",
   "metadata": {
    "hidden": true
   },
   "source": [
    "---"
   ]
  },
  {
   "cell_type": "markdown",
   "metadata": {
    "heading_collapsed": true
   },
   "source": [
    "### Exercício 3. Redimensionando matrizes"
   ]
  },
  {
   "cell_type": "markdown",
   "metadata": {
    "hidden": true
   },
   "source": [
    "Neste exercício criaremos uma função `reshape`, para redimensionar (*reshape*) matrizes. O redimensionamento reorganiza os elementos incluídos na matriz de forma que ela mude do forma (mas note que o número total de elementos não pode se alterar)."
   ]
  },
  {
   "cell_type": "markdown",
   "metadata": {
    "hidden": true
   },
   "source": [
    "Para facilitar nosso trabalho, vamos começar criando a função `flatten`, que simplesmente coleta todos os elementos de dentro da matriz e os coloca em sequência em uma lista "
   ]
  },
  {
   "cell_type": "code",
   "execution_count": 19,
   "metadata": {
    "hidden": true
   },
   "outputs": [],
   "source": [
    "def flatten(m):\n",
    "    return [ el for row in m for el in row]"
   ]
  },
  {
   "cell_type": "code",
   "execution_count": 20,
   "metadata": {
    "hidden": true
   },
   "outputs": [
    {
     "data": {
      "text/plain": [
       "[2, 1, 3, 3, 5, 4, 7, 8]"
      ]
     },
     "execution_count": 20,
     "metadata": {},
     "output_type": "execute_result"
    }
   ],
   "source": [
    "m = [ [2,1],\n",
    "       [3,3],\n",
    "       [5,4],\n",
    "       [7,8]]\n",
    "\n",
    "flatten(m)"
   ]
  },
  {
   "cell_type": "markdown",
   "metadata": {
    "hidden": true
   },
   "source": [
    "Agora podemos implementar mais facilmente a função `reshape`. Ela deve receber como argumentos uma matriz `m` e a sua nova forma `newshape`.\n",
    "\n",
    "**Atenção.** O valor passado para `newshape` deve ser uma tupla com dois elmentos: o primeiro é o número de linhas e o segundo, o número de colunas da matriz.\n",
    "\n",
    "**Atenção.** Caso não seja possível redimensionar a matriz, a função deve imprimir uma mensagem de erro e retornar nulo."
   ]
  },
  {
   "cell_type": "code",
   "execution_count": 21,
   "metadata": {
    "hidden": true
   },
   "outputs": [],
   "source": [
    "def reshape(m,newshape):\n",
    "    if newshape[0]*newshape[1] != dim(m)[0] * dim(m)[1]:\n",
    "        print( \"Erro! Impossível redimensionar\")\n",
    "        return None\n",
    "    \n",
    "    return [ flatten(m)[i:i+newshape[1]] for i in range( 0, newshape[0]*newshape[1], newshape[1] ) ]"
   ]
  },
  {
   "cell_type": "code",
   "execution_count": 22,
   "metadata": {
    "hidden": true
   },
   "outputs": [
    {
     "data": {
      "text/plain": [
       "[[2, 1, 3, 3], [5, 4, 7, 8]]"
      ]
     },
     "execution_count": 22,
     "metadata": {},
     "output_type": "execute_result"
    }
   ],
   "source": [
    "m =  [ [2,1],\n",
    "       [3,3],\n",
    "       [5,4],\n",
    "       [7,8] ]\n",
    "\n",
    "reshape(m,(2,4))"
   ]
  },
  {
   "cell_type": "code",
   "execution_count": 23,
   "metadata": {
    "hidden": true
   },
   "outputs": [
    {
     "data": {
      "text/plain": [
       "[[2, 1, 3, 3, 5, 4, 7, 8]]"
      ]
     },
     "execution_count": 23,
     "metadata": {},
     "output_type": "execute_result"
    }
   ],
   "source": [
    "reshape(m,(1,8))"
   ]
  },
  {
   "cell_type": "code",
   "execution_count": 24,
   "metadata": {
    "hidden": true
   },
   "outputs": [
    {
     "data": {
      "text/plain": [
       "[[2], [1], [3], [3], [5], [4], [7], [8]]"
      ]
     },
     "execution_count": 24,
     "metadata": {},
     "output_type": "execute_result"
    }
   ],
   "source": [
    "reshape(m,(8,1))"
   ]
  },
  {
   "cell_type": "markdown",
   "metadata": {
    "hidden": true
   },
   "source": [
    "---"
   ]
  },
  {
   "cell_type": "markdown",
   "metadata": {
    "heading_collapsed": true
   },
   "source": [
    "### Exercício 4. Cálculo da raiz quadrada"
   ]
  },
  {
   "cell_type": "markdown",
   "metadata": {
    "hidden": true
   },
   "source": [
    "Construa uma função `findSqrt` que compute uma aproximação numérica para a raiz quadrada de um número positivo $n$.\n",
    "Como sugestão, use o [método de Newton-Raphson](https://www.wikiwand.com/pt/M%C3%A9todo_de_Newton%E2%80%93Raphson) para obter tal aproximação iterativamente:\n",
    "$$\n",
    "x_{i+1} = x_i - \\frac{f(x_i)}{f'(x_i)} \\quad,\n",
    "$$\n",
    "em que $x_i$ é o valor de $x$ na iteração $i$ e $x_{i+1}$ é o valor de $x$ na iteração imediatamente posterior."
   ]
  },
  {
   "cell_type": "markdown",
   "metadata": {
    "hidden": true
   },
   "source": [
    "Em miúdos, o problema equivale a encontrar a raiz positiva da função $f(x)=x^2 - n$, pois assim encontraremos $x$ que satisfaça $x^2 - n = 0$, e portanto, $x^2=n$. Ou seja, $x$ é a raiz quadrada de $n$.\n",
    "Sendo assim, você deverá codificar a seguinte regra de iteração:\n",
    "\n",
    "$$\n",
    "x_{i+1} = x_i - \\frac{x_i^2 - n}{2x_i}\n",
    "$$"
   ]
  },
  {
   "cell_type": "markdown",
   "metadata": {
    "hidden": true
   },
   "source": [
    "As iterações devem parar no momento em que:\n",
    "* Uma precisão suficiente $\\epsilon$ (epsilon) for obtida, o que pode ser verificado fazendo $| x_{i+1} - x_i |$;\n",
    "* Um número máximo de iterações for atingido (isso evita um loop infinito caso a o método não convirja)"
   ]
  },
  {
   "cell_type": "markdown",
   "metadata": {
    "hidden": true
   },
   "source": [
    "Sua função deverá usar a assinatura fornecida abaixo como ponto de partida. Lembre-se de verificar se o número inserido é positivo (caso não seja, a função deve imprimir uma mensagem de erro e retornar nulo).\n",
    "\n",
    "**Dica.** Você pode imprimir o valor dos $x_i$ a cada iteração, para acompanhar a convergência do método"
   ]
  },
  {
   "cell_type": "code",
   "execution_count": 25,
   "metadata": {
    "hidden": true
   },
   "outputs": [],
   "source": [
    "def findSqrt(num, x_0=10, maxiter=100,epsilon=1e-6):\n",
    "    \"\"\"\n",
    "    Computa numericamente a raiz quadrada de um número positivo.\n",
    "    \n",
    "    Params\n",
    "    ------\n",
    "        num (int,float) : O número cuja raiz se deseja aproximar\n",
    "        x_0 (int) : O ponto inicial de x, no qual iniciam-se as iterações (default 10)\n",
    "        maxiter (int) : O número máximo de iterações permitidas (default 100)\n",
    "        epsilon (float) : A precisão suficiente para que o método pare (default 1e-6)\n",
    "    \n",
    "    \"\"\"\n",
    "    curr_iter = maxiter\n",
    "    x_i = x_0\n",
    "    \n",
    "    if num<=0:\n",
    "        print(\"Erro! O número deve ser positivo\")\n",
    "        return \n",
    "    \n",
    "    while curr_iter: \n",
    "        x_inext = x_i - ((x_i**2 - num)/(2*x_i))\n",
    "        delta = abs(x_inext - x_i)\n",
    "        print(f\"Iteração {maxiter-curr_iter}:   x_i={x_i:<30}delta={delta:.4}\")\n",
    "        \n",
    "        if delta < epsilon:\n",
    "            return x_i\n",
    "\n",
    "        x_i = x_inext\n",
    "        curr_iter -= 1\n",
    "        \n",
    "    return num"
   ]
  },
  {
   "cell_type": "code",
   "execution_count": 26,
   "metadata": {
    "hidden": true
   },
   "outputs": [
    {
     "name": "stdout",
     "output_type": "stream",
     "text": [
      "Erro! O número deve ser positivo\n"
     ]
    }
   ],
   "source": [
    "findSqrt(0)"
   ]
  },
  {
   "cell_type": "code",
   "execution_count": 27,
   "metadata": {
    "hidden": true
   },
   "outputs": [
    {
     "name": "stdout",
     "output_type": "stream",
     "text": [
      "Erro! O número deve ser positivo\n"
     ]
    }
   ],
   "source": [
    "findSqrt(-1)"
   ]
  },
  {
   "cell_type": "code",
   "execution_count": 28,
   "metadata": {
    "hidden": true
   },
   "outputs": [
    {
     "name": "stdout",
     "output_type": "stream",
     "text": [
      "Iteração 0:   x_i=10                            delta=4.95\n",
      "Iteração 1:   x_i=5.05                          delta=2.426\n",
      "Iteração 2:   x_i=2.624009900990099             delta=1.121\n",
      "Iteração 3:   x_i=1.5025530119986812            delta=0.4185\n",
      "Iteração 4:   x_i=1.0840434673026924            delta=0.08079\n",
      "Iteração 5:   x_i=1.0032578510960606            delta=0.003253\n",
      "Iteração 6:   x_i=1.0000052895642693            delta=5.29e-06\n",
      "Iteração 7:   x_i=1.0000000000139897            delta=1.399e-11\n"
     ]
    },
    {
     "data": {
      "text/plain": [
       "1.0000000000139897"
      ]
     },
     "execution_count": 28,
     "metadata": {},
     "output_type": "execute_result"
    }
   ],
   "source": [
    "findSqrt(1)"
   ]
  },
  {
   "cell_type": "code",
   "execution_count": 29,
   "metadata": {
    "hidden": true
   },
   "outputs": [
    {
     "name": "stdout",
     "output_type": "stream",
     "text": [
      "Iteração 0:   x_i=10                            delta=4.8\n",
      "Iteração 1:   x_i=5.2                           delta=2.215\n",
      "Iteração 2:   x_i=2.9846153846153847            delta=0.8222\n",
      "Iteração 3:   x_i=2.1624107850911973            delta=0.1563\n",
      "Iteração 4:   x_i=2.006099040777959             delta=0.00609\n",
      "Iteração 5:   x_i=2.00000927130158              delta=9.271e-06\n",
      "Iteração 6:   x_i=2.000000000021489             delta=2.149e-11\n"
     ]
    },
    {
     "data": {
      "text/plain": [
       "2.000000000021489"
      ]
     },
     "execution_count": 29,
     "metadata": {},
     "output_type": "execute_result"
    }
   ],
   "source": [
    "findSqrt(4)"
   ]
  },
  {
   "cell_type": "code",
   "execution_count": 30,
   "metadata": {
    "hidden": true
   },
   "outputs": [
    {
     "name": "stdout",
     "output_type": "stream",
     "text": [
      "Iteração 0:   x_i=10                            delta=4.0\n",
      "Iteração 1:   x_i=6.0                           delta=1.333\n",
      "Iteração 2:   x_i=4.666666666666667             delta=0.1905\n",
      "Iteração 3:   x_i=4.476190476190476             delta=0.004053\n",
      "Iteração 4:   x_i=4.472137791286727             delta=1.836e-06\n",
      "Iteração 5:   x_i=4.472135954999956             delta=3.766e-13\n"
     ]
    },
    {
     "data": {
      "text/plain": [
       "4.472135954999956"
      ]
     },
     "execution_count": 30,
     "metadata": {},
     "output_type": "execute_result"
    }
   ],
   "source": [
    "findSqrt(20)"
   ]
  },
  {
   "cell_type": "code",
   "execution_count": 31,
   "metadata": {
    "hidden": true
   },
   "outputs": [
    {
     "name": "stdout",
     "output_type": "stream",
     "text": [
      "Iteração 0:   x_i=10                            delta=5.152e+03\n",
      "Iteração 1:   x_i=5162.35                       delta=2.571e+03\n",
      "Iteração 2:   x_i=2591.1653144885568            delta=1.276e+03\n",
      "Iteração 3:   x_i=1315.4862503155603            delta=618.5\n",
      "Iteração 4:   x_i=696.9480199163748             delta=274.5\n",
      "Iteração 5:   x_i=422.4730723361653             delta=89.16\n",
      "Iteração 6:   x_i=333.3117721465843             delta=11.93\n",
      "Iteração 7:   x_i=321.38639459346206            delta=0.2213\n",
      "Iteração 8:   x_i=321.1651428040632             delta=7.621e-05\n",
      "Iteração 9:   x_i=321.16506659349767            delta=9.038e-12\n"
     ]
    },
    {
     "data": {
      "text/plain": [
       "321.16506659349767"
      ]
     },
     "execution_count": 31,
     "metadata": {},
     "output_type": "execute_result"
    }
   ],
   "source": [
    "findSqrt(103147)"
   ]
  }
 ],
 "metadata": {
  "kernelspec": {
   "display_name": "Python 3",
   "language": "python",
   "name": "python3"
  },
  "language_info": {
   "codemirror_mode": {
    "name": "ipython",
    "version": 3
   },
   "file_extension": ".py",
   "mimetype": "text/x-python",
   "name": "python",
   "nbconvert_exporter": "python",
   "pygments_lexer": "ipython3",
   "version": "3.6.5"
  }
 },
 "nbformat": 4,
 "nbformat_minor": 2
}
