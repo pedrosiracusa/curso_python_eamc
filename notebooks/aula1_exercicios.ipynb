{
 "cells": [
  {
   "cell_type": "markdown",
   "metadata": {},
   "source": [
    "# Aula 1. Estruturas de dados fundamentais - Exercícios"
   ]
  },
  {
   "cell_type": "markdown",
   "metadata": {
    "heading_collapsed": true
   },
   "source": [
    "### Exercício 1. Representando vetores"
   ]
  },
  {
   "cell_type": "markdown",
   "metadata": {
    "hidden": true
   },
   "source": [
    "Podemos representar vetores em *Python* usando uma estrutura nativa da linguagem, apesar de esta não ser a forma mais eficiente em aplicações reais.\n",
    "Represente os vetores $v_1$ e $v_2$ abaixo usando esta estrutura, armazenando o resultado nas variáveis `v1` e `v2`"
   ]
  },
  {
   "cell_type": "markdown",
   "metadata": {
    "hidden": true
   },
   "source": [
    "$$ v_1 = \n",
    "\\begin{bmatrix}1 & 3 & 5 & 7\\end{bmatrix}\n",
    "$$\n",
    "\n",
    "$$ v_2 = \n",
    "\\begin{bmatrix}10 & 9 & 8 & 0\\end{bmatrix}\n",
    "$$"
   ]
  },
  {
   "cell_type": "code",
   "execution_count": 46,
   "metadata": {
    "hidden": true
   },
   "outputs": [],
   "source": [
    "v1 = [1,3,5,7]\n",
    "v2 = [10, 12, -3, 0]"
   ]
  },
  {
   "cell_type": "markdown",
   "metadata": {
    "hidden": true
   },
   "source": [
    "Crie agora os vetores `v3` e `v4`, resultante da multiplicação de `v1` por 2 e `v2` por 4, respectivamente "
   ]
  },
  {
   "cell_type": "code",
   "execution_count": 47,
   "metadata": {
    "hidden": true
   },
   "outputs": [
    {
     "data": {
      "text/plain": [
       "[2, 6, 10, 14]"
      ]
     },
     "execution_count": 47,
     "metadata": {},
     "output_type": "execute_result"
    }
   ],
   "source": [
    "v3 = [ i*2 for i in v1 ]\n",
    "v3"
   ]
  },
  {
   "cell_type": "code",
   "execution_count": 48,
   "metadata": {
    "hidden": true
   },
   "outputs": [
    {
     "data": {
      "text/plain": [
       "[40, 48, -12, 0]"
      ]
     },
     "execution_count": 48,
     "metadata": {},
     "output_type": "execute_result"
    }
   ],
   "source": [
    "v4 = [i*4 for i in v2 ]\n",
    "v4"
   ]
  },
  {
   "cell_type": "markdown",
   "metadata": {
    "hidden": true
   },
   "source": [
    "Some os vetores `v3`e `v4` usando uma compreensão de listas.\n",
    "\n",
    "**Dica.** Use a função `zip` para emparelhar elementos na mesma posição e depois `sum` para somá-los"
   ]
  },
  {
   "cell_type": "code",
   "execution_count": 49,
   "metadata": {
    "hidden": true
   },
   "outputs": [
    {
     "data": {
      "text/plain": [
       "[42, 54, -2, 14]"
      ]
     },
     "execution_count": 49,
     "metadata": {},
     "output_type": "execute_result"
    }
   ],
   "source": [
    "[ sum(i) for i in list(zip(v3,v4)) ]"
   ]
  },
  {
   "cell_type": "markdown",
   "metadata": {
    "hidden": true
   },
   "source": [
    "Multiplique os vetores `v1` e `v2` usando uma compreensão de listas"
   ]
  },
  {
   "cell_type": "code",
   "execution_count": 57,
   "metadata": {
    "hidden": true
   },
   "outputs": [
    {
     "data": {
      "text/plain": [
       "[10, 36, -15, 0]"
      ]
     },
     "execution_count": 57,
     "metadata": {},
     "output_type": "execute_result"
    }
   ],
   "source": [
    "[ i[0]*i[1] for i in list(zip(v1,v2)) ]"
   ]
  },
  {
   "cell_type": "markdown",
   "metadata": {
    "hidden": true
   },
   "source": [
    "---"
   ]
  },
  {
   "cell_type": "markdown",
   "metadata": {
    "heading_collapsed": true
   },
   "source": [
    "### Exercício 2. Representando matrizes"
   ]
  },
  {
   "cell_type": "markdown",
   "metadata": {
    "hidden": true
   },
   "source": [
    "A representação de matrizes segue o mesmo princípio que você usou para representar vetores, com a diferença de que agora temos que armazenar linhas e colunas na mesma estrutura. Represente as matrizes $m_1$ e $m_2$ abaixo, armazenando os resultados nas variáveis `m1` e `m2`\n",
    "\n",
    "$$\n",
    "m_1 =\n",
    "\\begin{bmatrix}\n",
    "1 & 2 & 3 \\\\\n",
    "4 & 5 & 6 \\\\\n",
    "7 & 8 & 9\n",
    "\\end{bmatrix}\n",
    "$$\n",
    "\n",
    "$$\n",
    "m_2 =\n",
    "\\begin{bmatrix}\n",
    "9 & 7 & 5 \\\\\n",
    "5 & 3 & 1 \\\\\n",
    "3 & 1 & -3\n",
    "\\end{bmatrix}\n",
    "$$"
   ]
  },
  {
   "cell_type": "code",
   "execution_count": 59,
   "metadata": {
    "hidden": true
   },
   "outputs": [],
   "source": [
    "m1 = [ [1,2,3],[4,5,6],[7,8,9] ]\n",
    "m2 = [ [9,7,5], [5,3,1], [3,1,-3] ]"
   ]
  },
  {
   "cell_type": "markdown",
   "metadata": {
    "hidden": true
   },
   "source": [
    "Construa um vetor `v1` com três elementos, que armazena a soma de cada uma das linhas da matriz `m1`"
   ]
  },
  {
   "cell_type": "code",
   "execution_count": 66,
   "metadata": {
    "hidden": true
   },
   "outputs": [
    {
     "data": {
      "text/plain": [
       "[6, 15, 24]"
      ]
     },
     "execution_count": 66,
     "metadata": {},
     "output_type": "execute_result"
    }
   ],
   "source": [
    "v1 = [ sum(linha) for linha in m1 ]\n",
    "v1"
   ]
  },
  {
   "cell_type": "markdown",
   "metadata": {
    "hidden": true
   },
   "source": [
    "Faça o mesmo para `m2` e armazene o resultado no vetor `v2`"
   ]
  },
  {
   "cell_type": "code",
   "execution_count": 67,
   "metadata": {
    "hidden": true
   },
   "outputs": [
    {
     "data": {
      "text/plain": [
       "[21, 9, 1]"
      ]
     },
     "execution_count": 67,
     "metadata": {},
     "output_type": "execute_result"
    }
   ],
   "source": [
    "v2 = [ sum(linha) for linha in m2 ]\n",
    "v2"
   ]
  },
  {
   "cell_type": "markdown",
   "metadata": {
    "hidden": true
   },
   "source": [
    "Associe à variável `soma_elementos_m1` a soma de todos os elementos da matriz `m1` (deve ser um escalar!)"
   ]
  },
  {
   "cell_type": "code",
   "execution_count": 69,
   "metadata": {
    "hidden": true
   },
   "outputs": [
    {
     "data": {
      "text/plain": [
       "45"
      ]
     },
     "execution_count": 69,
     "metadata": {},
     "output_type": "execute_result"
    }
   ],
   "source": [
    "soma_elementos_m1 = sum([ sum(linha) for linha in m1 ])\n",
    "soma_elementos_m1"
   ]
  },
  {
   "cell_type": "markdown",
   "metadata": {
    "hidden": true
   },
   "source": [
    "Faça o mesmo para `m2` e aramazene o resultado na variável `soma_elementos_m2`"
   ]
  },
  {
   "cell_type": "code",
   "execution_count": 70,
   "metadata": {
    "hidden": true
   },
   "outputs": [
    {
     "data": {
      "text/plain": [
       "31"
      ]
     },
     "execution_count": 70,
     "metadata": {},
     "output_type": "execute_result"
    }
   ],
   "source": [
    "soma_elementos_m2 = sum([ sum(linha) for linha in m2 ])\n",
    "soma_elementos_m2"
   ]
  },
  {
   "cell_type": "markdown",
   "metadata": {
    "heading_collapsed": true
   },
   "source": [
    "### Exercício 3. Criando matrizes e vetores com sequências"
   ]
  },
  {
   "cell_type": "markdown",
   "metadata": {
    "hidden": true
   },
   "source": [
    "Podemos usar uma sequência `range` para criar vetores e matrizes.\n",
    "Vamos começar criando um vetor `v1` com os números inteiros de 0 a 50, com passo de 5 (números de 5 em 5)"
   ]
  },
  {
   "cell_type": "code",
   "execution_count": 82,
   "metadata": {
    "hidden": true
   },
   "outputs": [
    {
     "data": {
      "text/plain": [
       "[0, 5, 10, 15, 20, 25, 30, 35, 40, 45, 50]"
      ]
     },
     "execution_count": 82,
     "metadata": {},
     "output_type": "execute_result"
    }
   ],
   "source": [
    "v1 = [ i for i in range(0,51,5)]\n",
    "v1"
   ]
  },
  {
   "cell_type": "markdown",
   "metadata": {
    "hidden": true
   },
   "source": [
    "Vamos agora criar uma matriz `m1` de dimensão 11x5, com números inteiros de 0 a 54\n",
    "\n",
    "**Dica.** Você pode usar o vetor `v1` como ponto de partida"
   ]
  },
  {
   "cell_type": "code",
   "execution_count": 93,
   "metadata": {
    "hidden": true
   },
   "outputs": [
    {
     "data": {
      "text/plain": [
       "[[0, 1, 2, 3, 4],\n",
       " [5, 6, 7, 8, 9],\n",
       " [10, 11, 12, 13, 14],\n",
       " [15, 16, 17, 18, 19],\n",
       " [20, 21, 22, 23, 24],\n",
       " [25, 26, 27, 28, 29],\n",
       " [30, 31, 32, 33, 34],\n",
       " [35, 36, 37, 38, 39],\n",
       " [40, 41, 42, 43, 44],\n",
       " [45, 46, 47, 48, 49],\n",
       " [50, 51, 52, 53, 54]]"
      ]
     },
     "execution_count": 93,
     "metadata": {},
     "output_type": "execute_result"
    }
   ],
   "source": [
    "m1 = [ list(range(i,i+5)) for i in v1 ]\n",
    "m1"
   ]
  },
  {
   "cell_type": "markdown",
   "metadata": {
    "hidden": true
   },
   "source": [
    "Crie agora, em uma única linha, uma matriz `m2` de dimensão 5x10, contendo números inteiros de 1 a 50 (dessa vez sem usar `v1` como intermediário)"
   ]
  },
  {
   "cell_type": "code",
   "execution_count": 92,
   "metadata": {
    "hidden": true
   },
   "outputs": [
    {
     "data": {
      "text/plain": [
       "[[1, 2, 3, 4, 5],\n",
       " [6, 7, 8, 9, 10],\n",
       " [11, 12, 13, 14, 15],\n",
       " [16, 17, 18, 19, 20],\n",
       " [21, 22, 23, 24, 25],\n",
       " [26, 27, 28, 29, 30],\n",
       " [31, 32, 33, 34, 35],\n",
       " [36, 37, 38, 39, 40],\n",
       " [41, 42, 43, 44, 45],\n",
       " [46, 47, 48, 49, 50]]"
      ]
     },
     "execution_count": 92,
     "metadata": {},
     "output_type": "execute_result"
    }
   ],
   "source": [
    "m2 = [ list(range(i,i+5)) for i in range(1,51,5) ]\n",
    "m2"
   ]
  },
  {
   "cell_type": "markdown",
   "metadata": {
    "hidden": true
   },
   "source": [
    "---"
   ]
  },
  {
   "cell_type": "markdown",
   "metadata": {
    "heading_collapsed": true
   },
   "source": [
    "### Exercício 4. Mapeando caracteres com valores ASCII"
   ]
  },
  {
   "cell_type": "markdown",
   "metadata": {
    "hidden": true
   },
   "source": [
    "Na tabela ASCII, os caracteres de `'a'` a `'z'` (caixa baixo) são representados por valores inteiros começando por `097` e incrementando de 1 em 1.\n",
    "Construa um dicionário `d` mapeando cada caractere (de `'a'` a `'z'`) ao seu respectivo valor ASCII. Utilize o método de compreensão de dicionários"
   ]
  },
  {
   "cell_type": "code",
   "execution_count": 28,
   "metadata": {
    "hidden": true
   },
   "outputs": [],
   "source": [
    "l1='abcdefghijklmnopqrstuvwxyz'\n",
    "l2=list(range(97,len(l1)+97))"
   ]
  },
  {
   "cell_type": "code",
   "execution_count": 29,
   "metadata": {
    "hidden": true
   },
   "outputs": [
    {
     "data": {
      "text/plain": [
       "{'a': 97,\n",
       " 'b': 98,\n",
       " 'c': 99,\n",
       " 'd': 100,\n",
       " 'e': 101,\n",
       " 'f': 102,\n",
       " 'g': 103,\n",
       " 'h': 104,\n",
       " 'i': 105,\n",
       " 'j': 106,\n",
       " 'k': 107,\n",
       " 'l': 108,\n",
       " 'm': 109,\n",
       " 'n': 110,\n",
       " 'o': 111,\n",
       " 'p': 112,\n",
       " 'q': 113,\n",
       " 'r': 114,\n",
       " 's': 115,\n",
       " 't': 116,\n",
       " 'u': 117,\n",
       " 'v': 118,\n",
       " 'w': 119,\n",
       " 'x': 120,\n",
       " 'y': 121,\n",
       " 'z': 122}"
      ]
     },
     "execution_count": 29,
     "metadata": {},
     "output_type": "execute_result"
    }
   ],
   "source": [
    "d = { c:i for c,i in zip(l1,l2)}\n",
    "d"
   ]
  },
  {
   "cell_type": "markdown",
   "metadata": {
    "hidden": true
   },
   "source": [
    "Usando o dicionário que você acabou de criar, responda:"
   ]
  },
  {
   "cell_type": "markdown",
   "metadata": {
    "hidden": true
   },
   "source": [
    "* Qual o valor ASCII do caractere `'r'`?"
   ]
  },
  {
   "cell_type": "code",
   "execution_count": 30,
   "metadata": {
    "hidden": true
   },
   "outputs": [
    {
     "data": {
      "text/plain": [
       "114"
      ]
     },
     "execution_count": 30,
     "metadata": {},
     "output_type": "execute_result"
    }
   ],
   "source": [
    "d['r']"
   ]
  },
  {
   "cell_type": "markdown",
   "metadata": {
    "hidden": true
   },
   "source": [
    "* Quantos caracteres existem entre `'a'` e `'d'`?"
   ]
  },
  {
   "cell_type": "code",
   "execution_count": 51,
   "metadata": {
    "hidden": true
   },
   "outputs": [
    {
     "data": {
      "text/plain": [
       "2"
      ]
     },
     "execution_count": 51,
     "metadata": {},
     "output_type": "execute_result"
    }
   ],
   "source": [
    "abs(d['a'] - d['d']) - 1"
   ]
  },
  {
   "cell_type": "markdown",
   "metadata": {
    "hidden": true
   },
   "source": [
    "Outro aspecto interessante da tabela ASCII é que para obter os caracteres alfabéticos em caixa alto basta subtrair 32 do caractere em caixa baixo. Por exemplo, enquanto o caractere `'a'` tem valor 97, o caractere `'A'` tem valor 65.\n",
    "Atualize o dicionário criado acima para incorporar os caracteres em caixa alto também."
   ]
  },
  {
   "cell_type": "code",
   "execution_count": 31,
   "metadata": {
    "hidden": true
   },
   "outputs": [
    {
     "data": {
      "text/plain": [
       "{'a': 97,\n",
       " 'b': 98,\n",
       " 'c': 99,\n",
       " 'd': 100,\n",
       " 'e': 101,\n",
       " 'f': 102,\n",
       " 'g': 103,\n",
       " 'h': 104,\n",
       " 'i': 105,\n",
       " 'j': 106,\n",
       " 'k': 107,\n",
       " 'l': 108,\n",
       " 'm': 109,\n",
       " 'n': 110,\n",
       " 'o': 111,\n",
       " 'p': 112,\n",
       " 'q': 113,\n",
       " 'r': 114,\n",
       " 's': 115,\n",
       " 't': 116,\n",
       " 'u': 117,\n",
       " 'v': 118,\n",
       " 'w': 119,\n",
       " 'x': 120,\n",
       " 'y': 121,\n",
       " 'z': 122,\n",
       " 'A': 65,\n",
       " 'B': 66,\n",
       " 'C': 67,\n",
       " 'D': 68,\n",
       " 'E': 69,\n",
       " 'F': 70,\n",
       " 'G': 71,\n",
       " 'H': 72,\n",
       " 'I': 73,\n",
       " 'J': 74,\n",
       " 'K': 75,\n",
       " 'L': 76,\n",
       " 'M': 77,\n",
       " 'N': 78,\n",
       " 'O': 79,\n",
       " 'P': 80,\n",
       " 'Q': 81,\n",
       " 'R': 82,\n",
       " 'S': 83,\n",
       " 'T': 84,\n",
       " 'U': 85,\n",
       " 'V': 86,\n",
       " 'W': 87,\n",
       " 'X': 88,\n",
       " 'Y': 89,\n",
       " 'Z': 90}"
      ]
     },
     "execution_count": 31,
     "metadata": {},
     "output_type": "execute_result"
    }
   ],
   "source": [
    "d.update({ c.upper():i-32 for c,i in d.items() })\n",
    "d"
   ]
  },
  {
   "cell_type": "markdown",
   "metadata": {
    "hidden": true
   },
   "source": [
    "Por fim, inverta o dicionário `d`. Agora, cada valor numérico deve mapear para seu caractere correspondente"
   ]
  },
  {
   "cell_type": "code",
   "execution_count": 55,
   "metadata": {
    "hidden": true
   },
   "outputs": [
    {
     "data": {
      "text/plain": [
       "{97: 'a',\n",
       " 98: 'b',\n",
       " 99: 'c',\n",
       " 100: 'd',\n",
       " 101: 'e',\n",
       " 102: 'f',\n",
       " 103: 'g',\n",
       " 104: 'h',\n",
       " 105: 'i',\n",
       " 106: 'j',\n",
       " 107: 'k',\n",
       " 108: 'l',\n",
       " 109: 'm',\n",
       " 110: 'n',\n",
       " 111: 'o',\n",
       " 112: 'p',\n",
       " 113: 'q',\n",
       " 114: 'r',\n",
       " 115: 's',\n",
       " 116: 't',\n",
       " 117: 'u',\n",
       " 118: 'v',\n",
       " 119: 'w',\n",
       " 120: 'x',\n",
       " 121: 'y',\n",
       " 122: 'z',\n",
       " 65: 'A',\n",
       " 66: 'B',\n",
       " 67: 'C',\n",
       " 68: 'D',\n",
       " 69: 'E',\n",
       " 70: 'F',\n",
       " 71: 'G',\n",
       " 72: 'H',\n",
       " 73: 'I',\n",
       " 74: 'J',\n",
       " 75: 'K',\n",
       " 76: 'L',\n",
       " 77: 'M',\n",
       " 78: 'N',\n",
       " 79: 'O',\n",
       " 80: 'P',\n",
       " 81: 'Q',\n",
       " 82: 'R',\n",
       " 83: 'S',\n",
       " 84: 'T',\n",
       " 85: 'U',\n",
       " 86: 'V',\n",
       " 87: 'W',\n",
       " 88: 'X',\n",
       " 89: 'Y',\n",
       " 90: 'Z'}"
      ]
     },
     "execution_count": 55,
     "metadata": {},
     "output_type": "execute_result"
    }
   ],
   "source": [
    "{ i:c for c,i in d.items() }"
   ]
  },
  {
   "cell_type": "markdown",
   "metadata": {
    "heading_collapsed": true
   },
   "source": [
    "### Exercício 5. Construindo tabelas a partir de listas"
   ]
  },
  {
   "cell_type": "markdown",
   "metadata": {
    "hidden": true
   },
   "source": [
    "Neste exercício usaremos os dados armazenados nas variáveis `l1` a `l4` abaixo para construir uma estrutura que poderia representar uma tabela. As listas `l1` e `l4` contêm os nomes e siglas dos estados brasileiros, respectivamente. A lista `l3` contém as capitais dos estados, e a lista `l2` o tamanho da população de cada um deles"
   ]
  },
  {
   "cell_type": "code",
   "execution_count": 17,
   "metadata": {
    "hidden": true
   },
   "outputs": [],
   "source": [
    "l1 = ['São Paulo','Minas Gerais','Rio de Janeiro','Bahia','Paraná', \n",
    "      'Rio Grande do Sul', 'Pernambuco','Ceará' ,'Pará', 'Santa Catarina', \n",
    "      'Maranhão','Goiás','Amazonas','Paraíba','Espírito Santo',\n",
    "      'Rio Grande do Norte','Mato Grosso','Alagoas','Piauí','Distrito Federal',\n",
    "      'Mato Grosso do Sul','Sergipe','Rondônia','Tocantins','Acre',\n",
    "      'Amapá','Roraima']\n",
    "\n",
    "l2 = [45538936, 21040662, 17159960, 14812617,11348937,\n",
    "      11329605, 9496294, 9075649, 8513497, 7075494,\n",
    "      7035055, 6921161, 4080611, 3996496, 3972388,\n",
    "      3479010, 3441998, 3322820, 3264531, 2974703,\n",
    "      2748023, 2278308, 1757589, 1555229, 869265,\n",
    "      829494, 576568]\n",
    "\n",
    "l3 = ['São Paulo','Belo Horizonte','Rio de Janeiro','Salvador','Curitiba',\n",
    "      'Porto Alegre','Recife','Fortaleza','Belém','Florianópolis',\n",
    "      'São Luís','Goiânia','Manaus','João Pessoa','Vitória',\n",
    "      'Natal','Cuiabá','Maceió','Teresina','Brasília',\n",
    "      'Campo Grande','Aracaju','Porto Velho','Palmas','Rio Branco',\n",
    "      'Macapá','Boa Vista']\n",
    "\n",
    "l4 = ['SP','MG','RJ','BA','PR',\n",
    "      'RS','PE','CE','PA','SC',\n",
    "      'MA','GO','AM','PB','ES',\n",
    "      'RN','MT','AL','PI','DF',\n",
    "      'MS','SE','RO','TO','AC',\n",
    "      'AP','RR']\n",
    "\n",
    "colunas_nomes = ['estado_sigla', 'estado_nome','estado_capital','estado_pop']"
   ]
  },
  {
   "cell_type": "markdown",
   "metadata": {
    "hidden": true
   },
   "source": [
    "Uma das formas é **emparelhar** as listas, de forma que os dados sejam alinhados conforme a ordem em que aparecem. Armazene o resultado das listas emparelhadas numa variável de nome `data_l`. Adicione também um índice inteiro para cada item (linha), que será seu identificador único (chave primária); e o cabeçalho com os nomes das colunas"
   ]
  },
  {
   "cell_type": "code",
   "execution_count": 18,
   "metadata": {
    "hidden": true
   },
   "outputs": [],
   "source": [
    "data_l = list(zip(list(range(len(l4))),l4,l1,l3,l2))\n",
    "data_l = [ tuple(['id'] + colunas_nomes) ] + data_l"
   ]
  },
  {
   "cell_type": "code",
   "execution_count": 19,
   "metadata": {
    "hidden": true
   },
   "outputs": [
    {
     "data": {
      "text/plain": [
       "[('id', 'estado_sigla', 'estado_nome', 'estado_capital', 'estado_pop'),\n",
       " (0, 'SP', 'São Paulo', 'São Paulo', 45538936),\n",
       " (1, 'MG', 'Minas Gerais', 'Belo Horizonte', 21040662),\n",
       " (2, 'RJ', 'Rio de Janeiro', 'Rio de Janeiro', 17159960),\n",
       " (3, 'BA', 'Bahia', 'Salvador', 14812617),\n",
       " (4, 'PR', 'Paraná', 'Curitiba', 11348937),\n",
       " (5, 'RS', 'Rio Grande do Sul', 'Porto Alegre', 11329605),\n",
       " (6, 'PE', 'Pernambuco', 'Recife', 9496294),\n",
       " (7, 'CE', 'Ceará', 'Fortaleza', 9075649),\n",
       " (8, 'PA', 'Pará', 'Belém', 8513497),\n",
       " (9, 'SC', 'Santa Catarina', 'Florianópolis', 7075494),\n",
       " (10, 'MA', 'Maranhão', 'São Luís', 7035055),\n",
       " (11, 'GO', 'Goiás', 'Goiânia', 6921161),\n",
       " (12, 'AM', 'Amazonas', 'Manaus', 4080611),\n",
       " (13, 'PB', 'Paraíba', 'João Pessoa', 3996496),\n",
       " (14, 'ES', 'Espírito Santo', 'Vitória', 3972388),\n",
       " (15, 'RN', 'Rio Grande do Norte', 'Natal', 3479010),\n",
       " (16, 'MT', 'Mato Grosso', 'Cuiabá', 3441998),\n",
       " (17, 'AL', 'Alagoas', 'Maceió', 3322820),\n",
       " (18, 'PI', 'Piauí', 'Teresina', 3264531),\n",
       " (19, 'DF', 'Distrito Federal', 'Brasília', 2974703),\n",
       " (20, 'MS', 'Mato Grosso do Sul', 'Campo Grande', 2748023),\n",
       " (21, 'SE', 'Sergipe', 'Aracaju', 2278308),\n",
       " (22, 'RO', 'Rondônia', 'Porto Velho', 1757589),\n",
       " (23, 'TO', 'Tocantins', 'Palmas', 1555229),\n",
       " (24, 'AC', 'Acre', 'Rio Branco', 869265),\n",
       " (25, 'AP', 'Amapá', 'Macapá', 829494),\n",
       " (26, 'RR', 'Roraima', 'Boa Vista', 576568)]"
      ]
     },
     "execution_count": 19,
     "metadata": {},
     "output_type": "execute_result"
    }
   ],
   "source": [
    "data_l"
   ]
  },
  {
   "cell_type": "markdown",
   "metadata": {
    "hidden": true
   },
   "source": [
    "Podemos também estruturar esta tabela como um dicionário. Armazene os dados desta vez em um dicionário, chaveado pelos nomes das colunas. Atribua o resultado à variável `data_d`"
   ]
  },
  {
   "cell_type": "code",
   "execution_count": 20,
   "metadata": {
    "hidden": true
   },
   "outputs": [
    {
     "data": {
      "text/plain": [
       "{'id': [0,\n",
       "  1,\n",
       "  2,\n",
       "  3,\n",
       "  4,\n",
       "  5,\n",
       "  6,\n",
       "  7,\n",
       "  8,\n",
       "  9,\n",
       "  10,\n",
       "  11,\n",
       "  12,\n",
       "  13,\n",
       "  14,\n",
       "  15,\n",
       "  16,\n",
       "  17,\n",
       "  18,\n",
       "  19,\n",
       "  20,\n",
       "  21,\n",
       "  22,\n",
       "  23,\n",
       "  24,\n",
       "  25,\n",
       "  26],\n",
       " 'estado_sigla': ['SP',\n",
       "  'MG',\n",
       "  'RJ',\n",
       "  'BA',\n",
       "  'PR',\n",
       "  'RS',\n",
       "  'PE',\n",
       "  'CE',\n",
       "  'PA',\n",
       "  'SC',\n",
       "  'MA',\n",
       "  'GO',\n",
       "  'AM',\n",
       "  'PB',\n",
       "  'ES',\n",
       "  'RN',\n",
       "  'MT',\n",
       "  'AL',\n",
       "  'PI',\n",
       "  'DF',\n",
       "  'MS',\n",
       "  'SE',\n",
       "  'RO',\n",
       "  'TO',\n",
       "  'AC',\n",
       "  'AP',\n",
       "  'RR'],\n",
       " 'estado_nome': ['São Paulo',\n",
       "  'Minas Gerais',\n",
       "  'Rio de Janeiro',\n",
       "  'Bahia',\n",
       "  'Paraná',\n",
       "  'Rio Grande do Sul',\n",
       "  'Pernambuco',\n",
       "  'Ceará',\n",
       "  'Pará',\n",
       "  'Santa Catarina',\n",
       "  'Maranhão',\n",
       "  'Goiás',\n",
       "  'Amazonas',\n",
       "  'Paraíba',\n",
       "  'Espírito Santo',\n",
       "  'Rio Grande do Norte',\n",
       "  'Mato Grosso',\n",
       "  'Alagoas',\n",
       "  'Piauí',\n",
       "  'Distrito Federal',\n",
       "  'Mato Grosso do Sul',\n",
       "  'Sergipe',\n",
       "  'Rondônia',\n",
       "  'Tocantins',\n",
       "  'Acre',\n",
       "  'Amapá',\n",
       "  'Roraima'],\n",
       " 'estado_capital': ['São Paulo',\n",
       "  'Belo Horizonte',\n",
       "  'Rio de Janeiro',\n",
       "  'Salvador',\n",
       "  'Curitiba',\n",
       "  'Porto Alegre',\n",
       "  'Recife',\n",
       "  'Fortaleza',\n",
       "  'Belém',\n",
       "  'Florianópolis',\n",
       "  'São Luís',\n",
       "  'Goiânia',\n",
       "  'Manaus',\n",
       "  'João Pessoa',\n",
       "  'Vitória',\n",
       "  'Natal',\n",
       "  'Cuiabá',\n",
       "  'Maceió',\n",
       "  'Teresina',\n",
       "  'Brasília',\n",
       "  'Campo Grande',\n",
       "  'Aracaju',\n",
       "  'Porto Velho',\n",
       "  'Palmas',\n",
       "  'Rio Branco',\n",
       "  'Macapá',\n",
       "  'Boa Vista'],\n",
       " 'pop': [45538936,\n",
       "  21040662,\n",
       "  17159960,\n",
       "  14812617,\n",
       "  11348937,\n",
       "  11329605,\n",
       "  9496294,\n",
       "  9075649,\n",
       "  8513497,\n",
       "  7075494,\n",
       "  7035055,\n",
       "  6921161,\n",
       "  4080611,\n",
       "  3996496,\n",
       "  3972388,\n",
       "  3479010,\n",
       "  3441998,\n",
       "  3322820,\n",
       "  3264531,\n",
       "  2974703,\n",
       "  2748023,\n",
       "  2278308,\n",
       "  1757589,\n",
       "  1555229,\n",
       "  869265,\n",
       "  829494,\n",
       "  576568]}"
      ]
     },
     "execution_count": 20,
     "metadata": {},
     "output_type": "execute_result"
    }
   ],
   "source": [
    "data_d = { \n",
    "  'id': list(range(len(l4))),\n",
    "  'estado_sigla': l4,\n",
    "  'estado_nome': l1,\n",
    "  'estado_capital': l3,\n",
    "  'pop': l2\n",
    " }\n",
    "data_d"
   ]
  },
  {
   "cell_type": "markdown",
   "metadata": {
    "hidden": true
   },
   "source": [
    "Agora tente fazer as seguintes consultas. Em cada consulta, pense em qual das duas estruturas contendo os dados (lista ou dicionário) é mais adequada para recuperar a informação"
   ]
  },
  {
   "cell_type": "markdown",
   "metadata": {
    "hidden": true
   },
   "source": [
    "* Liste os nomes de todos os estados brasileiros"
   ]
  },
  {
   "cell_type": "code",
   "execution_count": 21,
   "metadata": {
    "hidden": true
   },
   "outputs": [
    {
     "data": {
      "text/plain": [
       "['São Paulo',\n",
       " 'Minas Gerais',\n",
       " 'Rio de Janeiro',\n",
       " 'Bahia',\n",
       " 'Paraná',\n",
       " 'Rio Grande do Sul',\n",
       " 'Pernambuco',\n",
       " 'Ceará',\n",
       " 'Pará',\n",
       " 'Santa Catarina',\n",
       " 'Maranhão',\n",
       " 'Goiás',\n",
       " 'Amazonas',\n",
       " 'Paraíba',\n",
       " 'Espírito Santo',\n",
       " 'Rio Grande do Norte',\n",
       " 'Mato Grosso',\n",
       " 'Alagoas',\n",
       " 'Piauí',\n",
       " 'Distrito Federal',\n",
       " 'Mato Grosso do Sul',\n",
       " 'Sergipe',\n",
       " 'Rondônia',\n",
       " 'Tocantins',\n",
       " 'Acre',\n",
       " 'Amapá',\n",
       " 'Roraima']"
      ]
     },
     "execution_count": 21,
     "metadata": {},
     "output_type": "execute_result"
    }
   ],
   "source": [
    "data_d['estado_nome']"
   ]
  },
  {
   "cell_type": "markdown",
   "metadata": {
    "hidden": true
   },
   "source": [
    "* Qual o tamanho populacional do estado mais populoso?"
   ]
  },
  {
   "cell_type": "code",
   "execution_count": 22,
   "metadata": {
    "hidden": true
   },
   "outputs": [
    {
     "data": {
      "text/plain": [
       "45538936"
      ]
     },
     "execution_count": 22,
     "metadata": {},
     "output_type": "execute_result"
    }
   ],
   "source": [
    "max(data_d['pop'])"
   ]
  },
  {
   "cell_type": "markdown",
   "metadata": {
    "hidden": true
   },
   "source": [
    "* Qual o tamanho populacional do estado menos populoso?"
   ]
  },
  {
   "cell_type": "code",
   "execution_count": 23,
   "metadata": {
    "hidden": true
   },
   "outputs": [
    {
     "data": {
      "text/plain": [
       "576568"
      ]
     },
     "execution_count": 23,
     "metadata": {},
     "output_type": "execute_result"
    }
   ],
   "source": [
    "min(data_d['pop'])"
   ]
  },
  {
   "cell_type": "markdown",
   "metadata": {
    "hidden": true
   },
   "source": [
    "* Qual o nome do estado com `id` 13?"
   ]
  },
  {
   "cell_type": "code",
   "execution_count": 24,
   "metadata": {
    "hidden": true
   },
   "outputs": [
    {
     "data": {
      "text/plain": [
       "'Paraíba'"
      ]
     },
     "execution_count": 24,
     "metadata": {},
     "output_type": "execute_result"
    }
   ],
   "source": [
    "data_d['estado_nome'][13]"
   ]
  },
  {
   "cell_type": "markdown",
   "metadata": {
    "hidden": true
   },
   "source": [
    "* Qual o nome do estado mais populoso, sua sigla, sua capital e seu tamanho populacional? (tente resolver usando o dicionário `data_d`)"
   ]
  },
  {
   "cell_type": "code",
   "execution_count": 25,
   "metadata": {
    "hidden": true
   },
   "outputs": [
    {
     "data": {
      "text/plain": [
       "'São Paulo (SP) é o estado mais populoso, com 45.5 milhões de habitantes. Sua capital é São Paulo'"
      ]
     },
     "execution_count": 25,
     "metadata": {},
     "output_type": "execute_result"
    }
   ],
   "source": [
    "idx = data_d['pop'].index(max(data_d['pop']))\n",
    "f\"{data_d['estado_nome'][idx]} ({data_d['estado_sigla'][idx]}) é o estado mais populoso, \\\n",
    "com {data_d['pop'][idx]/1e6:.3} milhões de habitantes. Sua capital é {data_d['estado_capital'][idx]}\""
   ]
  },
  {
   "cell_type": "markdown",
   "metadata": {
    "hidden": true
   },
   "source": [
    "* Qual o nome do estado menos populoso, sua sigla, sua capital e seu tamanho populacional? (tente resolver usando a lista `data_l`)"
   ]
  },
  {
   "cell_type": "code",
   "execution_count": 26,
   "metadata": {
    "hidden": true
   },
   "outputs": [
    {
     "data": {
      "text/plain": [
       "'Roraima (RR) é o estado menos populoso, com 576.6 mil habitantes. Sua capital é Boa Vista'"
      ]
     },
     "execution_count": 26,
     "metadata": {},
     "output_type": "execute_result"
    }
   ],
   "source": [
    "idx = data_d['pop'].index(min(data_d['pop']))\n",
    "_,sigla,estado,capital,pop = [ r for r in data_l if r[0]==idx ][0]\n",
    "f\"{estado} ({sigla}) é o estado menos populoso, com {pop/1e3:.4} mil habitantes. Sua capital é {capital}\""
   ]
  },
  {
   "cell_type": "markdown",
   "metadata": {
    "hidden": true
   },
   "source": [
    "* Quais os 5 estados mais populosos? Recupere toda a linha referente a cada um destes estados"
   ]
  },
  {
   "cell_type": "code",
   "execution_count": 27,
   "metadata": {
    "hidden": true
   },
   "outputs": [
    {
     "data": {
      "text/plain": [
       "[(0, 'SP', 'São Paulo', 'São Paulo', 45538936),\n",
       " (1, 'MG', 'Minas Gerais', 'Belo Horizonte', 21040662),\n",
       " (2, 'RJ', 'Rio de Janeiro', 'Rio de Janeiro', 17159960),\n",
       " (3, 'BA', 'Bahia', 'Salvador', 14812617),\n",
       " (4, 'PR', 'Paraná', 'Curitiba', 11348937)]"
      ]
     },
     "execution_count": 27,
     "metadata": {},
     "output_type": "execute_result"
    }
   ],
   "source": [
    "idxs = [ data_d['pop'].index(ix) for ix in list(reversed(sorted(data_d['pop'])))[:5] ]\n",
    "[ row for row in data_l if row[0] in idxs ]"
   ]
  },
  {
   "cell_type": "markdown",
   "metadata": {
    "hidden": true
   },
   "source": [
    "* Quais os 5 estados menos populosos? Recupere somente o nome de cada um deles"
   ]
  },
  {
   "cell_type": "code",
   "execution_count": 28,
   "metadata": {
    "hidden": true
   },
   "outputs": [
    {
     "data": {
      "text/plain": [
       "['Roraima', 'Amapá', 'Acre', 'Tocantins', 'Rondônia']"
      ]
     },
     "execution_count": 28,
     "metadata": {},
     "output_type": "execute_result"
    }
   ],
   "source": [
    "idxs = [ data_d['pop'].index(i) for i in sorted(data_d['pop'])[:5] ]\n",
    "[ data_d['estado_nome'][ix] for ix in idxs]"
   ]
  },
  {
   "cell_type": "markdown",
   "metadata": {
    "heading_collapsed": true
   },
   "source": [
    "### Exercício 6. Representando grafos"
   ]
  },
  {
   "cell_type": "markdown",
   "metadata": {
    "hidden": true
   },
   "source": [
    "Use alguma das esturutras de dados apresentadas na aula 1 para representar o grafo a seguir:"
   ]
  },
  {
   "cell_type": "markdown",
   "metadata": {
    "hidden": true
   },
   "source": [
    "<img width=200 src=\"img/graph.png\">"
   ]
  },
  {
   "cell_type": "markdown",
   "metadata": {
    "hidden": true
   },
   "source": [
    "Perceba que o grafo possui arestas pesadas, informação esta que também deve ser representada na sua estrutura.\n",
    "\n",
    "**Dica:** Pense em uma estrutura que armazene **adjacência** entre os vértices $A_i$"
   ]
  },
  {
   "cell_type": "code",
   "execution_count": 29,
   "metadata": {
    "hidden": true
   },
   "outputs": [],
   "source": [
    "g = {\n",
    "'a1': {'a4': 5},\n",
    "'a2': {'a6':2, 'a5':4, 'a3':5},\n",
    "'a3': {'a5':1,'a2':5,'a4':3},\n",
    "'a4': {'a1':5, 'a3':3},\n",
    "'a5': {'a2':4,'a3':1},\n",
    "'a6': {'a2':2}\n",
    "}"
   ]
  },
  {
   "cell_type": "markdown",
   "metadata": {
    "hidden": true
   },
   "source": [
    "* Quais os vizinhos (vértices adjacentes) de $A_3$?"
   ]
  },
  {
   "cell_type": "code",
   "execution_count": 30,
   "metadata": {
    "hidden": true
   },
   "outputs": [
    {
     "data": {
      "text/plain": [
       "['a5', 'a2', 'a4']"
      ]
     },
     "execution_count": 30,
     "metadata": {},
     "output_type": "execute_result"
    }
   ],
   "source": [
    "list(g['a3'])"
   ]
  },
  {
   "cell_type": "markdown",
   "metadata": {
    "hidden": true
   },
   "source": [
    "* Qual o grau (número de vizinhos) de $A_5$?"
   ]
  },
  {
   "cell_type": "code",
   "execution_count": 31,
   "metadata": {
    "hidden": true
   },
   "outputs": [
    {
     "data": {
      "text/plain": [
       "2"
      ]
     },
     "execution_count": 31,
     "metadata": {},
     "output_type": "execute_result"
    }
   ],
   "source": [
    "len(g['a5'])"
   ]
  },
  {
   "cell_type": "markdown",
   "metadata": {
    "hidden": true
   },
   "source": [
    "* Quais os vizinhos comuns entre $A_4$ e $A_2$?"
   ]
  },
  {
   "cell_type": "code",
   "execution_count": 32,
   "metadata": {
    "hidden": true
   },
   "outputs": [
    {
     "data": {
      "text/plain": [
       "['a3']"
      ]
     },
     "execution_count": 32,
     "metadata": {},
     "output_type": "execute_result"
    }
   ],
   "source": [
    "[ i for i in list(g['a4']) if i in list(g['a2'])]"
   ]
  },
  {
   "cell_type": "markdown",
   "metadata": {
    "hidden": true
   },
   "source": [
    "* Qual o peso da aresta entre $A_2$ e $A_5$? (Caso não exista, retornar 0)"
   ]
  },
  {
   "cell_type": "code",
   "execution_count": 33,
   "metadata": {
    "hidden": true
   },
   "outputs": [
    {
     "data": {
      "text/plain": [
       "4"
      ]
     },
     "execution_count": 33,
     "metadata": {},
     "output_type": "execute_result"
    }
   ],
   "source": [
    "g['a2']['a5']"
   ]
  },
  {
   "cell_type": "markdown",
   "metadata": {
    "hidden": true
   },
   "source": [
    "* Qual o peso da aresta entre $A_2$ e $A_1$? (Caso não exista, retornar 0)"
   ]
  },
  {
   "cell_type": "code",
   "execution_count": 34,
   "metadata": {
    "hidden": true
   },
   "outputs": [
    {
     "data": {
      "text/plain": [
       "0"
      ]
     },
     "execution_count": 34,
     "metadata": {},
     "output_type": "execute_result"
    }
   ],
   "source": [
    "g['a2'].get('a1',0)"
   ]
  },
  {
   "cell_type": "markdown",
   "metadata": {
    "hidden": true
   },
   "source": [
    "* Qual o grau ponderado de $A3$? O grau ponderado é obtido somando-se os pesos de cada uma das arestas incidentes"
   ]
  },
  {
   "cell_type": "code",
   "execution_count": 35,
   "metadata": {
    "hidden": true
   },
   "outputs": [
    {
     "data": {
      "text/plain": [
       "9"
      ]
     },
     "execution_count": 35,
     "metadata": {},
     "output_type": "execute_result"
    }
   ],
   "source": [
    "sum(g['a3'].values())"
   ]
  }
 ],
 "metadata": {
  "kernelspec": {
   "display_name": "Python 3",
   "language": "python",
   "name": "python3"
  }
 },
 "nbformat": 4,
 "nbformat_minor": 2
}
